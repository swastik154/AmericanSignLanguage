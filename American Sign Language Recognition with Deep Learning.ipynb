{
 "cells": [
  {
   "cell_type": "markdown",
   "id": "b1ad0026",
   "metadata": {},
   "source": [
    "# 1. Import and Install Dependencies"
   ]
  },
  {
   "cell_type": "code",
   "execution_count": 1,
   "id": "dfb0bbf9",
   "metadata": {},
   "outputs": [
    {
     "name": "stderr",
     "output_type": "stream",
     "text": [
      "ERROR: Could not find a version that satisfies the requirement tensorflow==2.4.1 (from versions: 2.5.0, 2.5.1, 2.5.2, 2.5.3, 2.6.0rc0, 2.6.0rc1, 2.6.0rc2, 2.6.0, 2.6.1, 2.6.2, 2.6.3, 2.6.4, 2.6.5, 2.7.0rc0, 2.7.0rc1, 2.7.0, 2.7.1, 2.7.2, 2.7.3, 2.7.4, 2.8.0rc0, 2.8.0rc1, 2.8.0, 2.8.1, 2.8.2, 2.8.3, 2.8.4, 2.9.0rc0, 2.9.0rc1, 2.9.0rc2, 2.9.0, 2.9.1, 2.9.2, 2.9.3, 2.10.0rc0, 2.10.0rc1, 2.10.0rc2, 2.10.0rc3, 2.10.0, 2.10.1, 2.11.0rc0, 2.11.0rc1, 2.11.0rc2, 2.11.0)\n",
      "ERROR: No matching distribution found for tensorflow==2.4.1\n"
     ]
    }
   ],
   "source": [
    "!pip install tensorflow==2.4.1 tensorflow-gpu==2.4.1 opencv-python mediapipe sklearn matplotlib"
   ]
  },
  {
   "cell_type": "code",
   "execution_count": 2,
   "id": "14a7a7d0",
   "metadata": {},
   "outputs": [],
   "source": [
    "import cv2\n",
    "import numpy as np\n",
    "import os\n",
    "from matplotlib import pyplot as plt\n",
    "import time\n",
    "import mediapipe as mp"
   ]
  },
  {
   "cell_type": "markdown",
   "id": "73b8a9af",
   "metadata": {},
   "source": [
    "# 2. Keypoints using MP Holistic"
   ]
  },
  {
   "cell_type": "code",
   "execution_count": 11,
   "id": "41f35292",
   "metadata": {},
   "outputs": [],
   "source": [
    "cap=cv2.VideoCapture(0)\n",
    "while cap.isOpened():\n",
    "    # Read feed\n",
    "    ret, frame = cap.read()\n",
    "    \n",
    "    #flip the frame horizontally\n",
    "    frame = cv2.flip(frame, 1)\n",
    "    \n",
    "    # Show to screen\n",
    "    cv2.imshow('Video Capture Test Window', frame)\n",
    "    \n",
    "    # Break gracefully\n",
    "    if cv2.waitKey(10) & 0xFF == ord('q'):\n",
    "        break;\n",
    "cap.release()\n",
    "cv2.destroyAllWindows()"
   ]
  },
  {
   "cell_type": "code",
   "execution_count": 12,
   "id": "1c8f1014",
   "metadata": {},
   "outputs": [],
   "source": [
    "mp_holistic = mp.solutions.holistic # Holistic model\n",
    "mp_drawing = mp.solutions.drawing_utils # Drawing utilities"
   ]
  },
  {
   "cell_type": "code",
   "execution_count": 13,
   "id": "b7238a3d",
   "metadata": {},
   "outputs": [],
   "source": [
    "def mediapipe_detection(image, model):\n",
    "    image = cv2.cvtColor(image, cv2.COLOR_BGR2RGB) # COLOR CONVERSION BGR 2 RGB\n",
    "    image.flags.writeable = False                  # Image is no longer writeable\n",
    "    results = model.process(image)                 # Make prediction\n",
    "    image.flags.writeable = True                   # Image is now writeable \n",
    "    image = cv2.cvtColor(image, cv2.COLOR_RGB2BGR) # COLOR CONVERSION RGB 2 BGR\n",
    "    return image, results"
   ]
  },
  {
   "cell_type": "code",
   "execution_count": 14,
   "id": "adc335c8",
   "metadata": {},
   "outputs": [],
   "source": [
    "def draw_landmarks(image, results):\n",
    "    mp_drawing.draw_landmarks(image, results.face_landmarks, mp_holistic.FACEMESH_TESSELATION) # Draw face connections\n",
    "    mp_drawing.draw_landmarks(image, results.pose_landmarks, mp_holistic.POSE_CONNECTIONS) # Draw pose connections\n",
    "    mp_drawing.draw_landmarks(image, results.left_hand_landmarks, mp_holistic.HAND_CONNECTIONS) # Draw left hand connections\n",
    "    mp_drawing.draw_landmarks(image, results.right_hand_landmarks, mp_holistic.HAND_CONNECTIONS) # Draw right hand connections"
   ]
  },
  {
   "cell_type": "code",
   "execution_count": 15,
   "id": "c50a1860",
   "metadata": {},
   "outputs": [],
   "source": [
    "def draw_styled_landmarks(image, results):\n",
    "    # Draw face connections\n",
    "    mp_drawing.draw_landmarks(image, results.face_landmarks, mp_holistic.FACEMESH_TESSELATION, \n",
    "                             mp_drawing.DrawingSpec(color=(80,110,10), thickness=1, circle_radius=1), \n",
    "                             mp_drawing.DrawingSpec(color=(80,256,121), thickness=1, circle_radius=1)\n",
    "                             ) \n",
    "    # Draw pose connections\n",
    "    mp_drawing.draw_landmarks(image, results.pose_landmarks, mp_holistic.POSE_CONNECTIONS,\n",
    "                             mp_drawing.DrawingSpec(color=(80,22,10), thickness=2, circle_radius=4), \n",
    "                             mp_drawing.DrawingSpec(color=(80,44,121), thickness=2, circle_radius=2)\n",
    "                             ) \n",
    "    # Draw left hand connections\n",
    "    mp_drawing.draw_landmarks(image, results.left_hand_landmarks, mp_holistic.HAND_CONNECTIONS, \n",
    "                             mp_drawing.DrawingSpec(color=(121,22,76), thickness=2, circle_radius=4), \n",
    "                             mp_drawing.DrawingSpec(color=(121,44,250), thickness=2, circle_radius=2)\n",
    "                             ) \n",
    "    # Draw right hand connections  \n",
    "    mp_drawing.draw_landmarks(image, results.right_hand_landmarks, mp_holistic.HAND_CONNECTIONS, \n",
    "                             mp_drawing.DrawingSpec(color=(245,117,66), thickness=2, circle_radius=4), \n",
    "                             mp_drawing.DrawingSpec(color=(245,66,230), thickness=2, circle_radius=2)\n",
    "                             ) "
   ]
  },
  {
   "cell_type": "code",
   "execution_count": 16,
   "id": "6b47420c",
   "metadata": {},
   "outputs": [
    {
     "name": "stdout",
     "output_type": "stream",
     "text": [
      "<class 'mediapipe.python.solution_base.SolutionOutputs'>\n",
      "<class 'mediapipe.python.solution_base.SolutionOutputs'>\n",
      "<class 'mediapipe.python.solution_base.SolutionOutputs'>\n",
      "<class 'mediapipe.python.solution_base.SolutionOutputs'>\n",
      "<class 'mediapipe.python.solution_base.SolutionOutputs'>\n",
      "<class 'mediapipe.python.solution_base.SolutionOutputs'>\n",
      "<class 'mediapipe.python.solution_base.SolutionOutputs'>\n",
      "<class 'mediapipe.python.solution_base.SolutionOutputs'>\n",
      "<class 'mediapipe.python.solution_base.SolutionOutputs'>\n",
      "<class 'mediapipe.python.solution_base.SolutionOutputs'>\n",
      "<class 'mediapipe.python.solution_base.SolutionOutputs'>\n",
      "<class 'mediapipe.python.solution_base.SolutionOutputs'>\n",
      "<class 'mediapipe.python.solution_base.SolutionOutputs'>\n",
      "<class 'mediapipe.python.solution_base.SolutionOutputs'>\n",
      "<class 'mediapipe.python.solution_base.SolutionOutputs'>\n",
      "<class 'mediapipe.python.solution_base.SolutionOutputs'>\n",
      "<class 'mediapipe.python.solution_base.SolutionOutputs'>\n",
      "<class 'mediapipe.python.solution_base.SolutionOutputs'>\n",
      "<class 'mediapipe.python.solution_base.SolutionOutputs'>\n",
      "<class 'mediapipe.python.solution_base.SolutionOutputs'>\n",
      "<class 'mediapipe.python.solution_base.SolutionOutputs'>\n",
      "<class 'mediapipe.python.solution_base.SolutionOutputs'>\n",
      "<class 'mediapipe.python.solution_base.SolutionOutputs'>\n",
      "<class 'mediapipe.python.solution_base.SolutionOutputs'>\n",
      "<class 'mediapipe.python.solution_base.SolutionOutputs'>\n",
      "<class 'mediapipe.python.solution_base.SolutionOutputs'>\n",
      "<class 'mediapipe.python.solution_base.SolutionOutputs'>\n",
      "<class 'mediapipe.python.solution_base.SolutionOutputs'>\n",
      "<class 'mediapipe.python.solution_base.SolutionOutputs'>\n",
      "<class 'mediapipe.python.solution_base.SolutionOutputs'>\n",
      "<class 'mediapipe.python.solution_base.SolutionOutputs'>\n",
      "<class 'mediapipe.python.solution_base.SolutionOutputs'>\n",
      "<class 'mediapipe.python.solution_base.SolutionOutputs'>\n",
      "<class 'mediapipe.python.solution_base.SolutionOutputs'>\n",
      "<class 'mediapipe.python.solution_base.SolutionOutputs'>\n",
      "<class 'mediapipe.python.solution_base.SolutionOutputs'>\n",
      "<class 'mediapipe.python.solution_base.SolutionOutputs'>\n",
      "<class 'mediapipe.python.solution_base.SolutionOutputs'>\n",
      "<class 'mediapipe.python.solution_base.SolutionOutputs'>\n",
      "<class 'mediapipe.python.solution_base.SolutionOutputs'>\n",
      "<class 'mediapipe.python.solution_base.SolutionOutputs'>\n",
      "<class 'mediapipe.python.solution_base.SolutionOutputs'>\n",
      "<class 'mediapipe.python.solution_base.SolutionOutputs'>\n",
      "<class 'mediapipe.python.solution_base.SolutionOutputs'>\n",
      "<class 'mediapipe.python.solution_base.SolutionOutputs'>\n",
      "<class 'mediapipe.python.solution_base.SolutionOutputs'>\n",
      "<class 'mediapipe.python.solution_base.SolutionOutputs'>\n",
      "<class 'mediapipe.python.solution_base.SolutionOutputs'>\n",
      "<class 'mediapipe.python.solution_base.SolutionOutputs'>\n",
      "<class 'mediapipe.python.solution_base.SolutionOutputs'>\n",
      "<class 'mediapipe.python.solution_base.SolutionOutputs'>\n",
      "<class 'mediapipe.python.solution_base.SolutionOutputs'>\n",
      "<class 'mediapipe.python.solution_base.SolutionOutputs'>\n",
      "<class 'mediapipe.python.solution_base.SolutionOutputs'>\n",
      "<class 'mediapipe.python.solution_base.SolutionOutputs'>\n",
      "<class 'mediapipe.python.solution_base.SolutionOutputs'>\n",
      "<class 'mediapipe.python.solution_base.SolutionOutputs'>\n",
      "<class 'mediapipe.python.solution_base.SolutionOutputs'>\n",
      "<class 'mediapipe.python.solution_base.SolutionOutputs'>\n",
      "<class 'mediapipe.python.solution_base.SolutionOutputs'>\n",
      "<class 'mediapipe.python.solution_base.SolutionOutputs'>\n",
      "<class 'mediapipe.python.solution_base.SolutionOutputs'>\n",
      "<class 'mediapipe.python.solution_base.SolutionOutputs'>\n",
      "<class 'mediapipe.python.solution_base.SolutionOutputs'>\n",
      "<class 'mediapipe.python.solution_base.SolutionOutputs'>\n",
      "<class 'mediapipe.python.solution_base.SolutionOutputs'>\n",
      "<class 'mediapipe.python.solution_base.SolutionOutputs'>\n",
      "<class 'mediapipe.python.solution_base.SolutionOutputs'>\n",
      "<class 'mediapipe.python.solution_base.SolutionOutputs'>\n",
      "<class 'mediapipe.python.solution_base.SolutionOutputs'>\n",
      "<class 'mediapipe.python.solution_base.SolutionOutputs'>\n",
      "<class 'mediapipe.python.solution_base.SolutionOutputs'>\n",
      "<class 'mediapipe.python.solution_base.SolutionOutputs'>\n",
      "<class 'mediapipe.python.solution_base.SolutionOutputs'>\n",
      "<class 'mediapipe.python.solution_base.SolutionOutputs'>\n",
      "<class 'mediapipe.python.solution_base.SolutionOutputs'>\n",
      "<class 'mediapipe.python.solution_base.SolutionOutputs'>\n",
      "<class 'mediapipe.python.solution_base.SolutionOutputs'>\n",
      "<class 'mediapipe.python.solution_base.SolutionOutputs'>\n"
     ]
    }
   ],
   "source": [
    "cap = cv2.VideoCapture(0)\n",
    "# Set mediapipe model \n",
    "with mp_holistic.Holistic(min_detection_confidence=0.5, min_tracking_confidence=0.5) as holistic:\n",
    "    while cap.isOpened():\n",
    "\n",
    "        # Read feed\n",
    "        ret, frame = cap.read()\n",
    "        \n",
    "        # Make detections\n",
    "        image, results = mediapipe_detection(frame, holistic)\n",
    "        print(results)\n",
    "        \n",
    "        # Draw landmarks\n",
    "        draw_styled_landmarks(image, results)\n",
    "\n",
    "        #flip the frame horizontally\n",
    "        image = cv2.flip(image, 1)\n",
    "        \n",
    "        # Show to screen\n",
    "        cv2.imshow('OpenCV Feed', image)\n",
    "\n",
    "        # Break gracefully\n",
    "        if cv2.waitKey(10) & 0xFF == ord('q'):\n",
    "            break\n",
    "    cap.release()\n",
    "    cv2.destroyAllWindows()"
   ]
  },
  {
   "cell_type": "code",
   "execution_count": 17,
   "id": "e8d6421e",
   "metadata": {},
   "outputs": [
    {
     "data": {
      "text/plain": [
       "<matplotlib.image.AxesImage at 0x1a015d4c850>"
      ]
     },
     "execution_count": 17,
     "metadata": {},
     "output_type": "execute_result"
    },
    {
     "data": {
      "image/png": "[encoded data removed]",
      "text/plain": [
       "<Figure size 432x288 with 1 Axes>"
      ]
     },
     "metadata": {
      "needs_background": "light"
     },
     "output_type": "display_data"
    }
   ],
   "source": [
    "plt.imshow(cv2.cvtColor(image, cv2.COLOR_BGR2RGB))"
   ]
  },
  {
   "cell_type": "markdown",
   "id": "1919cdb7",
   "metadata": {},
   "source": [
    "# 3. Extract Keypoint Values"
   ]
  },
  {
   "cell_type": "code",
   "execution_count": 18,
   "id": "58ab05c6",
   "metadata": {},
   "outputs": [
    {
     "data": {
      "text/plain": [
       "21"
      ]
     },
     "execution_count": 18,
     "metadata": {},
     "output_type": "execute_result"
    }
   ],
   "source": [
    "len(results.right_hand_landmarks.landmark)"
   ]
  },
  {
   "cell_type": "code",
   "execution_count": 19,
   "id": "dff1b371",
   "metadata": {},
   "outputs": [
    {
     "ename": "AttributeError",
     "evalue": "'NoneType' object has no attribute 'landmark'",
     "output_type": "error",
     "traceback": [
      "\u001b[1;31m---------------------------------------------------------------------------\u001b[0m",
      "\u001b[1;31mAttributeError\u001b[0m                            Traceback (most recent call last)",
      "Input \u001b[1;32mIn [19]\u001b[0m, in \u001b[0;36m<cell line: 1>\u001b[1;34m()\u001b[0m\n\u001b[1;32m----> 1\u001b[0m \u001b[38;5;28mlen\u001b[39m(\u001b[43mresults\u001b[49m\u001b[38;5;241;43m.\u001b[39;49m\u001b[43mleft_hand_landmarks\u001b[49m\u001b[38;5;241;43m.\u001b[39;49m\u001b[43mlandmark\u001b[49m)\n",
      "\u001b[1;31mAttributeError\u001b[0m: 'NoneType' object has no attribute 'landmark'"
     ]
    }
   ],
   "source": [
    "len(results.left_hand_landmarks.landmark)"
   ]
  },
  {
   "cell_type": "code",
   "execution_count": 20,
   "id": "708e666e",
   "metadata": {},
   "outputs": [
    {
     "data": {
      "text/plain": [
       "468"
      ]
     },
     "execution_count": 20,
     "metadata": {},
     "output_type": "execute_result"
    }
   ],
   "source": [
    "len(results.face_landmarks.landmark)"
   ]
  },
  {
   "cell_type": "code",
   "execution_count": 21,
   "id": "f979334d",
   "metadata": {},
   "outputs": [
    {
     "data": {
      "text/plain": [
       "33"
      ]
     },
     "execution_count": 21,
     "metadata": {},
     "output_type": "execute_result"
    }
   ],
   "source": [
    "len(results.pose_landmarks.landmark)"
   ]
  },
  {
   "cell_type": "code",
   "execution_count": 22,
   "id": "462ed9c6",
   "metadata": {},
   "outputs": [],
   "source": [
    "def extract_keypoints(results):\n",
    "    pose = np.array([[res.x, res.y, res.z, res.visibility] for res in results.pose_landmarks.landmark]).flatten() if results.pose_landmarks else np.zeros(33*4)\n",
    "    face = np.array([[res.x, res.y, res.z] for res in results.face_landmarks.landmark]).flatten() if results.face_landmarks else np.zeros(468*3)\n",
    "    lh = np.array([[res.x, res.y, res.z] for res in results.left_hand_landmarks.landmark]).flatten() if results.left_hand_landmarks else np.zeros(21*3)\n",
    "    rh = np.array([[res.x, res.y, res.z] for res in results.right_hand_landmarks.landmark]).flatten() if results.right_hand_landmarks else np.zeros(21*3)\n",
    "    return np.concatenate([pose, face, lh, rh])"
   ]
  },
  {
   "cell_type": "code",
   "execution_count": 23,
   "id": "44ee9cee",
   "metadata": {},
   "outputs": [],
   "source": [
    "result_test = extract_keypoints(results)"
   ]
  },
  {
   "cell_type": "code",
   "execution_count": 24,
   "id": "ec4cd956",
   "metadata": {},
   "outputs": [
    {
     "data": {
      "text/plain": [
       "array([ 0.67645514,  0.60317403, -0.992881  , ...,  0.35251632,\n",
       "        0.10341789, -0.04101743])"
      ]
     },
     "execution_count": 24,
     "metadata": {},
     "output_type": "execute_result"
    }
   ],
   "source": [
    "result_test"
   ]
  },
  {
   "cell_type": "code",
   "execution_count": 25,
   "id": "e7a1d06f",
   "metadata": {},
   "outputs": [],
   "source": [
    "np.save('0', result_test)"
   ]
  },
  {
   "cell_type": "code",
   "execution_count": 26,
   "id": "416af374",
   "metadata": {},
   "outputs": [
    {
     "data": {
      "text/plain": [
       "array([ 0.67645514,  0.60317403, -0.992881  , ...,  0.35251632,\n",
       "        0.10341789, -0.04101743])"
      ]
     },
     "execution_count": 26,
     "metadata": {},
     "output_type": "execute_result"
    }
   ],
   "source": [
    "np.load('0.npy')"
   ]
  },
  {
   "cell_type": "markdown",
   "id": "d87d328d",
   "metadata": {},
   "source": [
    "# 4. Setup Folders for Collection"
   ]
  },
  {
   "cell_type": "code",
   "execution_count": 27,
   "id": "81612d02",
   "metadata": {},
   "outputs": [],
   "source": [
    "# Path for exported data, numpy arrays\n",
    "DATA_PATH = os.path.join('MP_Data') \n",
    "\n",
    "# Actions that we try to detect\n",
    "actions = np.array(['Hello', 'Thank You', 'I Love You', 'Are You', 'Good', 'Sorry', 'Goodbye', 'How', 'No', 'I am'])\n",
    "\n",
    "# Thirty videos worth of data\n",
    "no_sequences = 30\n",
    "\n",
    "# Videos are going to be 30 frames in length\n",
    "sequence_length = 30"
   ]
  },
  {
   "cell_type": "code",
   "execution_count": 28,
   "id": "117b6d74",
   "metadata": {},
   "outputs": [],
   "source": [
    "for action in actions: \n",
    "    for sequence in range(no_sequences):\n",
    "        try: \n",
    "            os.makedirs(os.path.join(DATA_PATH, action, str(sequence)))\n",
    "        except:\n",
    "            pass"
   ]
  },
  {
   "cell_type": "markdown",
   "id": "a0923a70",
   "metadata": {},
   "source": [
    "# 5. Collect Keypoint Values for Training and Testing"
   ]
  },
  {
   "cell_type": "code",
   "execution_count": 56,
   "id": "ac31870b",
   "metadata": {},
   "outputs": [],
   "source": [
    "cap = cv2.VideoCapture(0)\n",
    "# Set mediapipe model \n",
    "with mp_holistic.Holistic(min_detection_confidence=0.5, min_tracking_confidence=0.5) as holistic:\n",
    "    \n",
    "    # NEW LOOP\n",
    "    # Loop through actions\n",
    "    for action in actions:\n",
    "        # Loop through sequences aka videos\n",
    "        for sequence in range(no_sequences):\n",
    "            # Loop through video length aka sequence length\n",
    "            for frame_num in range(sequence_length):\n",
    "\n",
    "                # Read feed\n",
    "                ret, frame = cap.read()\n",
    "                \n",
    "                # Make detections\n",
    "                image, results = mediapipe_detection(frame, holistic)\n",
    "                #print(results)\n",
    "\n",
    "                # Draw landmarks\n",
    "                draw_styled_landmarks(image, results)\n",
    "                \n",
    "                # NEW Apply wait logic\n",
    "                if frame_num == 0: \n",
    "                    cv2.putText(image, 'STARTING COLLECTION', (120,200), \n",
    "                               cv2.FONT_HERSHEY_SIMPLEX, 1, (0,255, 0), 4, cv2.LINE_AA)\n",
    "                    cv2.putText(image, 'Collecting frames for {} Video Number {}'.format(action, sequence), (15,12), \n",
    "                               cv2.FONT_HERSHEY_SIMPLEX, 0.5, (0, 0, 255), 1, cv2.LINE_AA)\n",
    "                    # Show to screen\n",
    "                    cv2.imshow('OpenCV Feed', image)\n",
    "                    cv2.waitKey(1000)\n",
    "                else: \n",
    "                    cv2.putText(image, 'Collecting frames for {} Video Number {}'.format(action, sequence), (15,12), \n",
    "                               cv2.FONT_HERSHEY_SIMPLEX, 0.5, (0, 0, 255), 1, cv2.LINE_AA)\n",
    "                    \n",
    "                    \n",
    "                    # Show to screen\n",
    "                    cv2.imshow('OpenCV Feed', image)\n",
    "                \n",
    "                # NEW Export keypoints\n",
    "                keypoints = extract_keypoints(results)\n",
    "                npy_path = os.path.join(DATA_PATH, action, str(sequence), str(frame_num))\n",
    "                np.save(npy_path, keypoints)\n",
    "\n",
    "                # Break gracefully\n",
    "                if cv2.waitKey(10) & 0xFF == ord('q'):\n",
    "                    break\n",
    "                    \n",
    "    cap.release()\n",
    "    cv2.destroyAllWindows()"
   ]
  },
  {
   "cell_type": "code",
   "execution_count": 21,
   "id": "037786f7",
   "metadata": {},
   "outputs": [],
   "source": [
    "cap.release()\n",
    "cv2.destroyAllWindows()"
   ]
  },
  {
   "cell_type": "markdown",
   "id": "ac4ddbce",
   "metadata": {},
   "source": [
    "# 6. Preprocess Data and Create Labels and Features"
   ]
  },
  {
   "cell_type": "code",
   "execution_count": 7,
   "id": "101b316d",
   "metadata": {},
   "outputs": [],
   "source": [
    "from sklearn.model_selection import train_test_split"
   ]
  },
  {
   "cell_type": "code",
   "execution_count": 8,
   "id": "9dd3f458",
   "metadata": {},
   "outputs": [],
   "source": [
    "from keras.utils import to_categorical"
   ]
  },
  {
   "cell_type": "code",
   "execution_count": 9,
   "id": "cc061fc0",
   "metadata": {},
   "outputs": [
    {
     "ename": "NameError",
     "evalue": "name 'actions' is not defined",
     "output_type": "error",
     "traceback": [
      "\u001b[1;31m---------------------------------------------------------------------------\u001b[0m",
      "\u001b[1;31mNameError\u001b[0m                                 Traceback (most recent call last)",
      "Input \u001b[1;32mIn [9]\u001b[0m, in \u001b[0;36m<cell line: 1>\u001b[1;34m()\u001b[0m\n\u001b[1;32m----> 1\u001b[0m label_map \u001b[38;5;241m=\u001b[39m {label:num \u001b[38;5;28;01mfor\u001b[39;00m num, label \u001b[38;5;129;01min\u001b[39;00m \u001b[38;5;28menumerate\u001b[39m(\u001b[43mactions\u001b[49m)}\n",
      "\u001b[1;31mNameError\u001b[0m: name 'actions' is not defined"
     ]
    }
   ],
   "source": [
    "label_map = {label:num for num, label in enumerate(actions)}"
   ]
  },
  {
   "cell_type": "code",
   "execution_count": 32,
   "id": "d6ecdee4",
   "metadata": {},
   "outputs": [
    {
     "name": "stdout",
     "output_type": "stream",
     "text": [
      "{'Hello': 0, 'Thank You': 1, 'I Love You': 2, 'Are You': 3, 'Good': 4, 'Sorry': 5, 'Goodbye': 6, 'How': 7, 'No': 8, 'I am': 9}\n"
     ]
    }
   ],
   "source": [
    "print(label_map)"
   ]
  },
  {
   "cell_type": "code",
   "execution_count": 33,
   "id": "790e64c2",
   "metadata": {},
   "outputs": [
    {
     "ename": "FileNotFoundError",
     "evalue": "[Errno 2] No such file or directory: 'MP_Data\\\\Sorry\\\\0\\\\0.npy'",
     "output_type": "error",
     "traceback": [
      "\u001b[1;31m---------------------------------------------------------------------------\u001b[0m",
      "\u001b[1;31mFileNotFoundError\u001b[0m                         Traceback (most recent call last)",
      "Input \u001b[1;32mIn [33]\u001b[0m, in \u001b[0;36m<cell line: 2>\u001b[1;34m()\u001b[0m\n\u001b[0;32m      4\u001b[0m window \u001b[38;5;241m=\u001b[39m []\n\u001b[0;32m      5\u001b[0m \u001b[38;5;28;01mfor\u001b[39;00m frame_num \u001b[38;5;129;01min\u001b[39;00m \u001b[38;5;28mrange\u001b[39m(sequence_length):\n\u001b[1;32m----> 6\u001b[0m     res \u001b[38;5;241m=\u001b[39m \u001b[43mnp\u001b[49m\u001b[38;5;241;43m.\u001b[39;49m\u001b[43mload\u001b[49m\u001b[43m(\u001b[49m\u001b[43mos\u001b[49m\u001b[38;5;241;43m.\u001b[39;49m\u001b[43mpath\u001b[49m\u001b[38;5;241;43m.\u001b[39;49m\u001b[43mjoin\u001b[49m\u001b[43m(\u001b[49m\u001b[43mDATA_PATH\u001b[49m\u001b[43m,\u001b[49m\u001b[43m \u001b[49m\u001b[43maction\u001b[49m\u001b[43m,\u001b[49m\u001b[43m \u001b[49m\u001b[38;5;28;43mstr\u001b[39;49m\u001b[43m(\u001b[49m\u001b[43msequence\u001b[49m\u001b[43m)\u001b[49m\u001b[43m,\u001b[49m\u001b[43m \u001b[49m\u001b[38;5;124;43m\"\u001b[39;49m\u001b[38;5;132;43;01m{}\u001b[39;49;00m\u001b[38;5;124;43m.npy\u001b[39;49m\u001b[38;5;124;43m\"\u001b[39;49m\u001b[38;5;241;43m.\u001b[39;49m\u001b[43mformat\u001b[49m\u001b[43m(\u001b[49m\u001b[43mframe_num\u001b[49m\u001b[43m)\u001b[49m\u001b[43m)\u001b[49m\u001b[43m)\u001b[49m\n\u001b[0;32m      7\u001b[0m     window\u001b[38;5;241m.\u001b[39mappend(res)\n\u001b[0;32m      8\u001b[0m sequences\u001b[38;5;241m.\u001b[39mappend(window)\n",
      "File \u001b[1;32mD:\\Users\\MANYA MALHOTRA\\anaconda3\\lib\\site-packages\\numpy\\lib\\npyio.py:417\u001b[0m, in \u001b[0;36mload\u001b[1;34m(file, mmap_mode, allow_pickle, fix_imports, encoding)\u001b[0m\n\u001b[0;32m    415\u001b[0m     own_fid \u001b[38;5;241m=\u001b[39m \u001b[38;5;28;01mFalse\u001b[39;00m\n\u001b[0;32m    416\u001b[0m \u001b[38;5;28;01melse\u001b[39;00m:\n\u001b[1;32m--> 417\u001b[0m     fid \u001b[38;5;241m=\u001b[39m stack\u001b[38;5;241m.\u001b[39menter_context(\u001b[38;5;28;43mopen\u001b[39;49m\u001b[43m(\u001b[49m\u001b[43mos_fspath\u001b[49m\u001b[43m(\u001b[49m\u001b[43mfile\u001b[49m\u001b[43m)\u001b[49m\u001b[43m,\u001b[49m\u001b[43m \u001b[49m\u001b[38;5;124;43m\"\u001b[39;49m\u001b[38;5;124;43mrb\u001b[39;49m\u001b[38;5;124;43m\"\u001b[39;49m\u001b[43m)\u001b[49m)\n\u001b[0;32m    418\u001b[0m     own_fid \u001b[38;5;241m=\u001b[39m \u001b[38;5;28;01mTrue\u001b[39;00m\n\u001b[0;32m    420\u001b[0m \u001b[38;5;66;03m# Code to distinguish from NumPy binary files and pickles.\u001b[39;00m\n",
      "\u001b[1;31mFileNotFoundError\u001b[0m: [Errno 2] No such file or directory: 'MP_Data\\\\Sorry\\\\0\\\\0.npy'"
     ]
    }
   ],
   "source": [
    "sequences, labels = [], []\n",
    "for action in actions:\n",
    "    for sequence in range(no_sequences):\n",
    "        window = []\n",
    "        for frame_num in range(sequence_length):\n",
    "            res = np.load(os.path.join(DATA_PATH, action, str(sequence), \"{}.npy\".format(frame_num)))\n",
    "            window.append(res)\n",
    "        sequences.append(window)\n",
    "        labels.append(label_map[action])"
   ]
  },
  {
   "cell_type": "code",
   "execution_count": 6,
   "id": "b1cd65d2",
   "metadata": {},
   "outputs": [
    {
     "ename": "NameError",
     "evalue": "name 'sequences' is not defined",
     "output_type": "error",
     "traceback": [
      "\u001b[1;31m---------------------------------------------------------------------------\u001b[0m",
      "\u001b[1;31mNameError\u001b[0m                                 Traceback (most recent call last)",
      "Input \u001b[1;32mIn [6]\u001b[0m, in \u001b[0;36m<cell line: 1>\u001b[1;34m()\u001b[0m\n\u001b[1;32m----> 1\u001b[0m np\u001b[38;5;241m.\u001b[39marray(\u001b[43msequences\u001b[49m)\u001b[38;5;241m.\u001b[39mshape\n",
      "\u001b[1;31mNameError\u001b[0m: name 'sequences' is not defined"
     ]
    }
   ],
   "source": [
    "np.array(sequences).shape"
   ]
  },
  {
   "cell_type": "code",
   "execution_count": null,
   "id": "e3a8a2bd",
   "metadata": {},
   "outputs": [],
   "source": [
    "np.array(labels).shape"
   ]
  },
  {
   "cell_type": "code",
   "execution_count": null,
   "id": "94e9d256",
   "metadata": {},
   "outputs": [],
   "source": [
    "X = np.array(sequences)\n",
    "X.shape"
   ]
  },
  {
   "cell_type": "code",
   "execution_count": null,
   "id": "4b2f695b",
   "metadata": {},
   "outputs": [],
   "source": [
    "y = to_categorical(labels).astype(int)\n",
    "y"
   ]
  },
  {
   "cell_type": "code",
   "execution_count": null,
   "id": "b7d81f44",
   "metadata": {},
   "outputs": [],
   "source": [
    "X_train, X_test, y_train, y_test = train_test_split(X, y, test_size=0.05)\n",
    "y_test.shape"
   ]
  },
  {
   "cell_type": "markdown",
   "id": "27139cb8",
   "metadata": {},
   "source": [
    "# 7. Build and Train LSTM Neural Network"
   ]
  },
  {
   "cell_type": "code",
   "execution_count": null,
   "id": "174bdfb8",
   "metadata": {},
   "outputs": [],
   "source": [
    "from tensorflow.keras.models import Sequential\n",
    "from tensorflow.keras.layers import LSTM, Dense\n",
    "from tensorflow.keras.callbacks import TensorBoard"
   ]
  },
  {
   "cell_type": "code",
   "execution_count": null,
   "id": "1444d27f",
   "metadata": {},
   "outputs": [],
   "source": [
    "log_dir = os.path.join('Logs')\n",
    "tb_callback = TensorBoard(log_dir=log_dir)"
   ]
  },
  {
   "cell_type": "code",
   "execution_count": null,
   "id": "c7add362",
   "metadata": {},
   "outputs": [],
   "source": [
    "model = Sequential()\n",
    "model.add(LSTM(64, return_sequences=True, activation='relu', input_shape=(30,1662)))\n",
    "model.add(LSTM(128, return_sequences=True, activation='relu'))\n",
    "model.add(LSTM(64, return_sequences=False, activation='relu'))\n",
    "model.add(Dense(64, activation='relu'))\n",
    "model.add(Dense(32, activation='relu'))\n",
    "model.add(Dense(actions.shape[0], activation='softmax'))"
   ]
  },
  {
   "cell_type": "code",
   "execution_count": null,
   "id": "25c550e7",
   "metadata": {},
   "outputs": [],
   "source": [
    "model.compile(optimizer='Adam', loss='categorical_crossentropy', metrics=['categorical_accuracy'])"
   ]
  },
  {
   "cell_type": "code",
   "execution_count": 45,
   "id": "deb144d8",
   "metadata": {},
   "outputs": [
    {
     "name": "stdout",
     "output_type": "stream",
     "text": [
      "Epoch 1/750\n",
      "7/7 [==============================] - 7s 85ms/step - loss: 15.8546 - categorical_accuracy: 0.1256\n",
      "Epoch 2/750\n",
      "7/7 [==============================] - 0s 67ms/step - loss: 6.0579 - categorical_accuracy: 0.1307\n",
      "Epoch 3/750\n",
      "7/7 [==============================] - 0s 66ms/step - loss: 14.9358 - categorical_accuracy: 0.1759\n",
      "Epoch 4/750\n",
      "7/7 [==============================] - 1s 74ms/step - loss: 4.2784 - categorical_accuracy: 0.1508\n",
      "Epoch 5/750\n",
      "7/7 [==============================] - 0s 67ms/step - loss: 2.2596 - categorical_accuracy: 0.2010\n",
      "Epoch 6/750\n",
      "7/7 [==============================] - 0s 67ms/step - loss: 2.0173 - categorical_accuracy: 0.1859\n",
      "Epoch 7/750\n",
      "7/7 [==============================] - 0s 65ms/step - loss: 25.4541 - categorical_accuracy: 0.1859\n",
      "Epoch 8/750\n",
      "7/7 [==============================] - 0s 68ms/step - loss: 31.7574 - categorical_accuracy: 0.1206\n",
      "Epoch 9/750\n",
      "7/7 [==============================] - 0s 65ms/step - loss: 56.4863 - categorical_accuracy: 0.1407\n",
      "Epoch 10/750\n",
      "7/7 [==============================] - 0s 67ms/step - loss: 106.8847 - categorical_accuracy: 0.1709\n",
      "Epoch 11/750\n",
      "7/7 [==============================] - 0s 67ms/step - loss: 114.0070 - categorical_accuracy: 0.1357\n",
      "Epoch 12/750\n",
      "7/7 [==============================] - 0s 69ms/step - loss: 231.3678 - categorical_accuracy: 0.1407\n",
      "Epoch 13/750\n",
      "7/7 [==============================] - 0s 67ms/step - loss: 63.9342 - categorical_accuracy: 0.1457\n",
      "Epoch 14/750\n",
      "7/7 [==============================] - 0s 64ms/step - loss: 32.4333 - categorical_accuracy: 0.1256\n",
      "Epoch 15/750\n",
      "7/7 [==============================] - 0s 66ms/step - loss: 23.1055 - categorical_accuracy: 0.0905\n",
      "Epoch 16/750\n",
      "7/7 [==============================] - 0s 66ms/step - loss: 53.8905 - categorical_accuracy: 0.1407\n",
      "Epoch 17/750\n",
      "7/7 [==============================] - 0s 66ms/step - loss: 31.5285 - categorical_accuracy: 0.1457\n",
      "Epoch 18/750\n",
      "7/7 [==============================] - 0s 70ms/step - loss: 22.6103 - categorical_accuracy: 0.1508\n",
      "Epoch 19/750\n",
      "7/7 [==============================] - 0s 66ms/step - loss: 5.3301 - categorical_accuracy: 0.1508\n",
      "Epoch 20/750\n",
      "7/7 [==============================] - 0s 67ms/step - loss: 14.1715 - categorical_accuracy: 0.1508\n",
      "Epoch 21/750\n",
      "7/7 [==============================] - 0s 68ms/step - loss: 17.4801 - categorical_accuracy: 0.1558\n",
      "Epoch 22/750\n",
      "7/7 [==============================] - 1s 77ms/step - loss: 17.3721 - categorical_accuracy: 0.1256\n",
      "Epoch 23/750\n",
      "7/7 [==============================] - 1s 70ms/step - loss: 6.4916 - categorical_accuracy: 0.1407\n",
      "Epoch 24/750\n",
      "7/7 [==============================] - 0s 72ms/step - loss: 2.9909 - categorical_accuracy: 0.1508\n",
      "Epoch 25/750\n",
      "7/7 [==============================] - 1s 71ms/step - loss: 3.6590 - categorical_accuracy: 0.1407\n",
      "Epoch 26/750\n",
      "7/7 [==============================] - 0s 67ms/step - loss: 2.1893 - categorical_accuracy: 0.1508\n",
      "Epoch 27/750\n",
      "7/7 [==============================] - 0s 68ms/step - loss: 1.9856 - categorical_accuracy: 0.1508\n",
      "Epoch 28/750\n",
      "7/7 [==============================] - 0s 66ms/step - loss: 1.9463 - categorical_accuracy: 0.1508\n",
      "Epoch 29/750\n",
      "7/7 [==============================] - 0s 67ms/step - loss: 1.9463 - categorical_accuracy: 0.1508\n",
      "Epoch 30/750\n",
      "7/7 [==============================] - 0s 67ms/step - loss: 2.0979 - categorical_accuracy: 0.1457\n",
      "Epoch 31/750\n",
      "7/7 [==============================] - 0s 70ms/step - loss: 1.9462 - categorical_accuracy: 0.1508\n",
      "Epoch 32/750\n",
      "7/7 [==============================] - 0s 72ms/step - loss: 1.9462 - categorical_accuracy: 0.1508\n",
      "Epoch 33/750\n",
      "7/7 [==============================] - 0s 71ms/step - loss: 1.9462 - categorical_accuracy: 0.1508\n",
      "Epoch 34/750\n",
      "7/7 [==============================] - 0s 67ms/step - loss: 1.9461 - categorical_accuracy: 0.1508\n",
      "Epoch 35/750\n",
      "7/7 [==============================] - 0s 66ms/step - loss: 1.9461 - categorical_accuracy: 0.1508\n",
      "Epoch 36/750\n",
      "7/7 [==============================] - 0s 68ms/step - loss: 1.9461 - categorical_accuracy: 0.1508\n",
      "Epoch 37/750\n",
      "7/7 [==============================] - 1s 75ms/step - loss: 1.9461 - categorical_accuracy: 0.1508\n",
      "Epoch 38/750\n",
      "7/7 [==============================] - 1s 70ms/step - loss: 1.9460 - categorical_accuracy: 0.1508\n",
      "Epoch 39/750\n",
      "7/7 [==============================] - 1s 72ms/step - loss: 1.9460 - categorical_accuracy: 0.1508\n",
      "Epoch 40/750\n",
      "7/7 [==============================] - 1s 101ms/step - loss: 1.9460 - categorical_accuracy: 0.1508\n",
      "Epoch 41/750\n",
      "7/7 [==============================] - 1s 98ms/step - loss: 1.9459 - categorical_accuracy: 0.1508\n",
      "Epoch 42/750\n",
      "7/7 [==============================] - 1s 71ms/step - loss: 1.9459 - categorical_accuracy: 0.1508\n",
      "Epoch 43/750\n",
      "7/7 [==============================] - 1s 89ms/step - loss: 1.9459 - categorical_accuracy: 0.1508\n",
      "Epoch 44/750\n",
      "7/7 [==============================] - 0s 72ms/step - loss: 1.9459 - categorical_accuracy: 0.1508\n",
      "Epoch 45/750\n",
      "7/7 [==============================] - 1s 73ms/step - loss: 1.9458 - categorical_accuracy: 0.1508\n",
      "Epoch 46/750\n",
      "7/7 [==============================] - 1s 72ms/step - loss: 1.9458 - categorical_accuracy: 0.1508\n",
      "Epoch 47/750\n",
      "7/7 [==============================] - 1s 66ms/step - loss: 1.9458 - categorical_accuracy: 0.1508\n",
      "Epoch 48/750\n",
      "7/7 [==============================] - 0s 70ms/step - loss: 1.9458 - categorical_accuracy: 0.1508\n",
      "Epoch 49/750\n",
      "7/7 [==============================] - 0s 68ms/step - loss: 1.9457 - categorical_accuracy: 0.1508\n",
      "Epoch 50/750\n",
      "7/7 [==============================] - 0s 71ms/step - loss: 1.9458 - categorical_accuracy: 0.1508\n",
      "Epoch 51/750\n",
      "7/7 [==============================] - 1s 88ms/step - loss: 1.9457 - categorical_accuracy: 0.1508\n",
      "Epoch 52/750\n",
      "7/7 [==============================] - 1s 77ms/step - loss: 1.9457 - categorical_accuracy: 0.1508\n",
      "Epoch 53/750\n",
      "7/7 [==============================] - 1s 75ms/step - loss: 1.9457 - categorical_accuracy: 0.1508\n",
      "Epoch 54/750\n",
      "7/7 [==============================] - 1s 73ms/step - loss: 1.9456 - categorical_accuracy: 0.1508\n",
      "Epoch 55/750\n",
      "7/7 [==============================] - 0s 68ms/step - loss: 1.9456 - categorical_accuracy: 0.1508\n",
      "Epoch 56/750\n",
      "7/7 [==============================] - 0s 66ms/step - loss: 1.9456 - categorical_accuracy: 0.1508\n",
      "Epoch 57/750\n",
      "7/7 [==============================] - 0s 64ms/step - loss: 1.9455 - categorical_accuracy: 0.1508\n",
      "Epoch 58/750\n",
      "7/7 [==============================] - 0s 64ms/step - loss: 1.9455 - categorical_accuracy: 0.1508\n",
      "Epoch 59/750\n",
      "7/7 [==============================] - 1s 73ms/step - loss: 1.9456 - categorical_accuracy: 0.1508\n",
      "Epoch 60/750\n",
      "7/7 [==============================] - 0s 64ms/step - loss: 1.9455 - categorical_accuracy: 0.1508\n",
      "Epoch 61/750\n",
      "7/7 [==============================] - 0s 64ms/step - loss: 1.9455 - categorical_accuracy: 0.1508\n",
      "Epoch 62/750\n",
      "7/7 [==============================] - 0s 67ms/step - loss: 1.9455 - categorical_accuracy: 0.1508\n",
      "Epoch 63/750\n",
      "7/7 [==============================] - 0s 70ms/step - loss: 1.9455 - categorical_accuracy: 0.1508\n",
      "Epoch 64/750\n",
      "7/7 [==============================] - 1s 71ms/step - loss: 1.9455 - categorical_accuracy: 0.1508\n",
      "Epoch 65/750\n",
      "7/7 [==============================] - 0s 69ms/step - loss: 1.9455 - categorical_accuracy: 0.1508\n",
      "Epoch 66/750\n",
      "7/7 [==============================] - 0s 66ms/step - loss: 1.9455 - categorical_accuracy: 0.1508\n",
      "Epoch 67/750\n",
      "7/7 [==============================] - 0s 71ms/step - loss: 1.9454 - categorical_accuracy: 0.1508\n",
      "Epoch 68/750\n",
      "7/7 [==============================] - 0s 70ms/step - loss: 1.9455 - categorical_accuracy: 0.1508\n",
      "Epoch 69/750\n",
      "7/7 [==============================] - 0s 69ms/step - loss: 1.9454 - categorical_accuracy: 0.1508\n",
      "Epoch 70/750\n",
      "7/7 [==============================] - 0s 68ms/step - loss: 1.9454 - categorical_accuracy: 0.1508\n",
      "Epoch 71/750\n",
      "7/7 [==============================] - 1s 86ms/step - loss: 1.9454 - categorical_accuracy: 0.1508\n",
      "Epoch 72/750\n",
      "7/7 [==============================] - 1s 74ms/step - loss: 1.9454 - categorical_accuracy: 0.1508\n",
      "Epoch 73/750\n",
      "7/7 [==============================] - 1s 79ms/step - loss: 1.9454 - categorical_accuracy: 0.1508\n",
      "Epoch 74/750\n",
      "7/7 [==============================] - 1s 75ms/step - loss: 1.9454 - categorical_accuracy: 0.1508\n",
      "Epoch 75/750\n",
      "7/7 [==============================] - 1s 75ms/step - loss: 1.9454 - categorical_accuracy: 0.1508\n",
      "Epoch 76/750\n",
      "7/7 [==============================] - 1s 80ms/step - loss: 1.9454 - categorical_accuracy: 0.1508\n",
      "Epoch 77/750\n",
      "7/7 [==============================] - 1s 96ms/step - loss: 1.9453 - categorical_accuracy: 0.1508\n",
      "Epoch 78/750\n",
      "7/7 [==============================] - 1s 79ms/step - loss: 1.9453 - categorical_accuracy: 0.1508\n",
      "Epoch 79/750\n",
      "7/7 [==============================] - 1s 76ms/step - loss: 1.9453 - categorical_accuracy: 0.1508\n",
      "Epoch 80/750\n",
      "7/7 [==============================] - 1s 89ms/step - loss: 1.9453 - categorical_accuracy: 0.1508\n",
      "Epoch 81/750\n",
      "7/7 [==============================] - 1s 87ms/step - loss: 1.9453 - categorical_accuracy: 0.1508\n",
      "Epoch 82/750\n",
      "7/7 [==============================] - 1s 83ms/step - loss: 1.9453 - categorical_accuracy: 0.1508\n",
      "Epoch 83/750\n",
      "7/7 [==============================] - 1s 79ms/step - loss: 1.9453 - categorical_accuracy: 0.1508\n",
      "Epoch 84/750\n",
      "7/7 [==============================] - 1s 76ms/step - loss: 1.9453 - categorical_accuracy: 0.1508\n",
      "Epoch 85/750\n",
      "7/7 [==============================] - 1s 80ms/step - loss: 1.9453 - categorical_accuracy: 0.1508\n",
      "Epoch 86/750\n",
      "7/7 [==============================] - 1s 82ms/step - loss: 1.9453 - categorical_accuracy: 0.1508\n",
      "Epoch 87/750\n",
      "7/7 [==============================] - 0s 66ms/step - loss: 1.9453 - categorical_accuracy: 0.1508\n",
      "Epoch 88/750\n",
      "7/7 [==============================] - 0s 64ms/step - loss: 1.9453 - categorical_accuracy: 0.1508\n",
      "Epoch 89/750\n",
      "7/7 [==============================] - 0s 69ms/step - loss: 1.9453 - categorical_accuracy: 0.1508\n",
      "Epoch 90/750\n",
      "7/7 [==============================] - 0s 69ms/step - loss: 1.9452 - categorical_accuracy: 0.1508\n",
      "Epoch 91/750\n",
      "7/7 [==============================] - 0s 63ms/step - loss: 1.9453 - categorical_accuracy: 0.1508\n",
      "Epoch 92/750\n",
      "7/7 [==============================] - 0s 71ms/step - loss: 1.9452 - categorical_accuracy: 0.1508\n",
      "Epoch 93/750\n",
      "7/7 [==============================] - 1s 72ms/step - loss: 1.9453 - categorical_accuracy: 0.1508\n",
      "Epoch 94/750\n",
      "7/7 [==============================] - 4s 652ms/step - loss: 1.9452 - categorical_accuracy: 0.1508\n",
      "Epoch 95/750\n",
      "7/7 [==============================] - 2s 70ms/step - loss: 1.9452 - categorical_accuracy: 0.1508\n",
      "Epoch 96/750\n",
      "7/7 [==============================] - 0s 68ms/step - loss: 1.9452 - categorical_accuracy: 0.1508\n",
      "Epoch 97/750\n",
      "7/7 [==============================] - 0s 67ms/step - loss: 1.9452 - categorical_accuracy: 0.1508\n",
      "Epoch 98/750\n",
      "7/7 [==============================] - 0s 65ms/step - loss: 1.9452 - categorical_accuracy: 0.1508\n",
      "Epoch 99/750\n",
      "7/7 [==============================] - 0s 66ms/step - loss: 1.9452 - categorical_accuracy: 0.1508\n",
      "Epoch 100/750\n",
      "7/7 [==============================] - 0s 69ms/step - loss: 1.9452 - categorical_accuracy: 0.1508\n",
      "Epoch 101/750\n",
      "7/7 [==============================] - 1s 99ms/step - loss: 1.9452 - categorical_accuracy: 0.1508\n",
      "Epoch 102/750\n",
      "7/7 [==============================] - 1s 76ms/step - loss: 1.9452 - categorical_accuracy: 0.1508\n",
      "Epoch 103/750\n",
      "7/7 [==============================] - 1s 82ms/step - loss: 1.9452 - categorical_accuracy: 0.1508\n",
      "Epoch 104/750\n",
      "7/7 [==============================] - 1s 106ms/step - loss: 1.9452 - categorical_accuracy: 0.1508\n",
      "Epoch 105/750\n",
      "7/7 [==============================] - 1s 125ms/step - loss: 1.9452 - categorical_accuracy: 0.1508\n",
      "Epoch 106/750\n",
      "7/7 [==============================] - 1s 76ms/step - loss: 1.9452 - categorical_accuracy: 0.1508\n",
      "Epoch 107/750\n",
      "7/7 [==============================] - 1s 77ms/step - loss: 1.9452 - categorical_accuracy: 0.1508\n",
      "Epoch 108/750\n",
      "7/7 [==============================] - 1s 75ms/step - loss: 1.9451 - categorical_accuracy: 0.1508\n",
      "Epoch 109/750\n",
      "7/7 [==============================] - 1s 80ms/step - loss: 1.9451 - categorical_accuracy: 0.1508\n",
      "Epoch 110/750\n",
      "7/7 [==============================] - 1s 70ms/step - loss: 1.9452 - categorical_accuracy: 0.1508\n",
      "Epoch 111/750\n",
      "7/7 [==============================] - 0s 67ms/step - loss: 1.9452 - categorical_accuracy: 0.1508\n",
      "Epoch 112/750\n",
      "7/7 [==============================] - 1s 72ms/step - loss: 1.9452 - categorical_accuracy: 0.1508\n",
      "Epoch 113/750\n",
      "7/7 [==============================] - 0s 71ms/step - loss: 1.9452 - categorical_accuracy: 0.1508\n",
      "Epoch 114/750\n",
      "7/7 [==============================] - 0s 70ms/step - loss: 1.9452 - categorical_accuracy: 0.1508\n",
      "Epoch 115/750\n",
      "7/7 [==============================] - 0s 71ms/step - loss: 1.9451 - categorical_accuracy: 0.1508\n",
      "Epoch 116/750\n",
      "7/7 [==============================] - 0s 69ms/step - loss: 1.9451 - categorical_accuracy: 0.1508\n",
      "Epoch 117/750\n",
      "7/7 [==============================] - 1s 74ms/step - loss: 1.9452 - categorical_accuracy: 0.1508\n",
      "Epoch 118/750\n",
      "7/7 [==============================] - 0s 70ms/step - loss: 1.9451 - categorical_accuracy: 0.1508\n",
      "Epoch 119/750\n",
      "7/7 [==============================] - 0s 69ms/step - loss: 1.9451 - categorical_accuracy: 0.1508\n",
      "Epoch 120/750\n",
      "7/7 [==============================] - 0s 69ms/step - loss: 1.9451 - categorical_accuracy: 0.1508\n",
      "Epoch 121/750\n",
      "7/7 [==============================] - 1s 74ms/step - loss: 1.9451 - categorical_accuracy: 0.1508\n",
      "Epoch 122/750\n",
      "7/7 [==============================] - 1s 73ms/step - loss: 1.9451 - categorical_accuracy: 0.1508\n",
      "Epoch 123/750\n",
      "7/7 [==============================] - 1s 72ms/step - loss: 1.9451 - categorical_accuracy: 0.1508\n",
      "Epoch 124/750\n",
      "7/7 [==============================] - 0s 69ms/step - loss: 1.9451 - categorical_accuracy: 0.1508\n",
      "Epoch 125/750\n",
      "7/7 [==============================] - 0s 66ms/step - loss: 1.9451 - categorical_accuracy: 0.1508\n",
      "Epoch 126/750\n",
      "7/7 [==============================] - 1s 73ms/step - loss: 1.9451 - categorical_accuracy: 0.1508\n",
      "Epoch 127/750\n",
      "7/7 [==============================] - 1s 71ms/step - loss: 1.9451 - categorical_accuracy: 0.1508\n",
      "Epoch 128/750\n",
      "7/7 [==============================] - 1s 91ms/step - loss: 1.9451 - categorical_accuracy: 0.1508\n",
      "Epoch 129/750\n",
      "7/7 [==============================] - 0s 65ms/step - loss: 1.9450 - categorical_accuracy: 0.1508\n",
      "Epoch 130/750\n",
      "7/7 [==============================] - 0s 62ms/step - loss: 1.9450 - categorical_accuracy: 0.1508\n",
      "Epoch 131/750\n",
      "7/7 [==============================] - 0s 64ms/step - loss: 1.9451 - categorical_accuracy: 0.1508\n",
      "Epoch 132/750\n",
      "7/7 [==============================] - 0s 66ms/step - loss: 1.9450 - categorical_accuracy: 0.1508\n",
      "Epoch 133/750\n",
      "7/7 [==============================] - 1s 95ms/step - loss: 1.9450 - categorical_accuracy: 0.1508\n",
      "Epoch 134/750\n",
      "7/7 [==============================] - 0s 63ms/step - loss: 1.9451 - categorical_accuracy: 0.1508\n",
      "Epoch 135/750\n",
      "7/7 [==============================] - 0s 69ms/step - loss: 1.9450 - categorical_accuracy: 0.1508\n",
      "Epoch 136/750\n",
      "7/7 [==============================] - 0s 69ms/step - loss: 1.9450 - categorical_accuracy: 0.1508\n",
      "Epoch 137/750\n",
      "7/7 [==============================] - 0s 66ms/step - loss: 1.9450 - categorical_accuracy: 0.1508\n",
      "Epoch 138/750\n",
      "7/7 [==============================] - 0s 66ms/step - loss: 1.9450 - categorical_accuracy: 0.1508\n",
      "Epoch 139/750\n",
      "7/7 [==============================] - 0s 64ms/step - loss: 1.9450 - categorical_accuracy: 0.1508\n",
      "Epoch 140/750\n",
      "7/7 [==============================] - 0s 64ms/step - loss: 1.9450 - categorical_accuracy: 0.1508\n",
      "Epoch 141/750\n",
      "7/7 [==============================] - 0s 63ms/step - loss: 1.9450 - categorical_accuracy: 0.1508\n",
      "Epoch 142/750\n",
      "7/7 [==============================] - 0s 63ms/step - loss: 1.9450 - categorical_accuracy: 0.1508\n",
      "Epoch 143/750\n",
      "7/7 [==============================] - 0s 63ms/step - loss: 1.9450 - categorical_accuracy: 0.1508\n",
      "Epoch 144/750\n",
      "7/7 [==============================] - 0s 65ms/step - loss: 1.9450 - categorical_accuracy: 0.1508\n",
      "Epoch 145/750\n",
      "7/7 [==============================] - 0s 69ms/step - loss: 1.9450 - categorical_accuracy: 0.1508\n",
      "Epoch 146/750\n",
      "7/7 [==============================] - 0s 67ms/step - loss: 1.9450 - categorical_accuracy: 0.1508\n",
      "Epoch 147/750\n"
     ]
    },
    {
     "name": "stdout",
     "output_type": "stream",
     "text": [
      "7/7 [==============================] - 0s 68ms/step - loss: 1.9450 - categorical_accuracy: 0.1508\n",
      "Epoch 148/750\n",
      "7/7 [==============================] - 0s 70ms/step - loss: 1.9450 - categorical_accuracy: 0.1508\n",
      "Epoch 149/750\n",
      "7/7 [==============================] - 0s 66ms/step - loss: 1.9450 - categorical_accuracy: 0.1508\n",
      "Epoch 150/750\n",
      "7/7 [==============================] - 1s 82ms/step - loss: 1.9450 - categorical_accuracy: 0.1508\n",
      "Epoch 151/750\n",
      "7/7 [==============================] - 0s 67ms/step - loss: 1.9450 - categorical_accuracy: 0.1508\n",
      "Epoch 152/750\n",
      "7/7 [==============================] - 0s 66ms/step - loss: 1.9449 - categorical_accuracy: 0.1508\n",
      "Epoch 153/750\n",
      "7/7 [==============================] - 0s 67ms/step - loss: 1.9450 - categorical_accuracy: 0.1508\n",
      "Epoch 154/750\n",
      "7/7 [==============================] - 1s 82ms/step - loss: 1.9450 - categorical_accuracy: 0.1508\n",
      "Epoch 155/750\n",
      "7/7 [==============================] - 1s 99ms/step - loss: 1.9450 - categorical_accuracy: 0.1508\n",
      "Epoch 156/750\n",
      "7/7 [==============================] - 0s 64ms/step - loss: 1.9450 - categorical_accuracy: 0.1508\n",
      "Epoch 157/750\n",
      "7/7 [==============================] - 0s 62ms/step - loss: 1.9450 - categorical_accuracy: 0.1508\n",
      "Epoch 158/750\n",
      "7/7 [==============================] - 0s 66ms/step - loss: 1.9450 - categorical_accuracy: 0.1508\n",
      "Epoch 159/750\n",
      "7/7 [==============================] - 0s 71ms/step - loss: 1.9450 - categorical_accuracy: 0.1508\n",
      "Epoch 160/750\n",
      "7/7 [==============================] - 0s 67ms/step - loss: 1.9450 - categorical_accuracy: 0.1508\n",
      "Epoch 161/750\n",
      "7/7 [==============================] - 0s 66ms/step - loss: 1.9450 - categorical_accuracy: 0.1508\n",
      "Epoch 162/750\n",
      "7/7 [==============================] - 1s 72ms/step - loss: 1.9450 - categorical_accuracy: 0.1508\n",
      "Epoch 163/750\n",
      "7/7 [==============================] - 1s 97ms/step - loss: 1.9450 - categorical_accuracy: 0.1508\n",
      "Epoch 164/750\n",
      "7/7 [==============================] - 1s 106ms/step - loss: 1.9450 - categorical_accuracy: 0.1508\n",
      "Epoch 165/750\n",
      "7/7 [==============================] - 1s 72ms/step - loss: 1.9449 - categorical_accuracy: 0.1508\n",
      "Epoch 166/750\n",
      "7/7 [==============================] - 0s 65ms/step - loss: 1.9449 - categorical_accuracy: 0.1508\n",
      "Epoch 167/750\n",
      "7/7 [==============================] - 1s 76ms/step - loss: 1.9450 - categorical_accuracy: 0.1508\n",
      "Epoch 168/750\n",
      "7/7 [==============================] - 1s 75ms/step - loss: 1.9450 - categorical_accuracy: 0.1508\n",
      "Epoch 169/750\n",
      "7/7 [==============================] - 1s 81ms/step - loss: 1.9449 - categorical_accuracy: 0.1508\n",
      "Epoch 170/750\n",
      "7/7 [==============================] - 0s 69ms/step - loss: 1.9449 - categorical_accuracy: 0.1508\n",
      "Epoch 171/750\n",
      "7/7 [==============================] - 0s 66ms/step - loss: 1.9450 - categorical_accuracy: 0.1508\n",
      "Epoch 172/750\n",
      "7/7 [==============================] - 0s 66ms/step - loss: 1.9450 - categorical_accuracy: 0.1508\n",
      "Epoch 173/750\n",
      "7/7 [==============================] - 0s 72ms/step - loss: 1.9449 - categorical_accuracy: 0.1508\n",
      "Epoch 174/750\n",
      "7/7 [==============================] - 0s 68ms/step - loss: 1.9449 - categorical_accuracy: 0.1508\n",
      "Epoch 175/750\n",
      "7/7 [==============================] - 0s 68ms/step - loss: 1.9449 - categorical_accuracy: 0.1508\n",
      "Epoch 176/750\n",
      "7/7 [==============================] - 1s 93ms/step - loss: 1.9449 - categorical_accuracy: 0.1508\n",
      "Epoch 177/750\n",
      "7/7 [==============================] - 1s 82ms/step - loss: 1.9449 - categorical_accuracy: 0.1508\n",
      "Epoch 178/750\n",
      "7/7 [==============================] - 1s 77ms/step - loss: 1.9449 - categorical_accuracy: 0.1508\n",
      "Epoch 179/750\n",
      "7/7 [==============================] - 1s 72ms/step - loss: 1.9449 - categorical_accuracy: 0.1508\n",
      "Epoch 180/750\n",
      "7/7 [==============================] - 0s 71ms/step - loss: 1.9449 - categorical_accuracy: 0.1508\n",
      "Epoch 181/750\n",
      "7/7 [==============================] - 1s 71ms/step - loss: 1.9449 - categorical_accuracy: 0.1508\n",
      "Epoch 182/750\n",
      "7/7 [==============================] - 1s 73ms/step - loss: 1.9450 - categorical_accuracy: 0.1508\n",
      "Epoch 183/750\n",
      "7/7 [==============================] - 0s 71ms/step - loss: 1.9449 - categorical_accuracy: 0.1508\n",
      "Epoch 184/750\n",
      "7/7 [==============================] - 1s 72ms/step - loss: 1.9449 - categorical_accuracy: 0.1508\n",
      "Epoch 185/750\n",
      "7/7 [==============================] - 1s 92ms/step - loss: 1.9449 - categorical_accuracy: 0.1508\n",
      "Epoch 186/750\n",
      "7/7 [==============================] - 1s 82ms/step - loss: 1.9450 - categorical_accuracy: 0.1508\n",
      "Epoch 187/750\n",
      "7/7 [==============================] - 1s 75ms/step - loss: 1.9450 - categorical_accuracy: 0.1508\n",
      "Epoch 188/750\n",
      "7/7 [==============================] - 0s 71ms/step - loss: 1.9449 - categorical_accuracy: 0.1508\n",
      "Epoch 189/750\n",
      "7/7 [==============================] - 0s 69ms/step - loss: 1.9449 - categorical_accuracy: 0.1508\n",
      "Epoch 190/750\n",
      "7/7 [==============================] - 0s 71ms/step - loss: 1.9449 - categorical_accuracy: 0.1508\n",
      "Epoch 191/750\n",
      "7/7 [==============================] - 1s 76ms/step - loss: 1.9450 - categorical_accuracy: 0.1508\n",
      "Epoch 192/750\n",
      "7/7 [==============================] - 0s 69ms/step - loss: 1.9449 - categorical_accuracy: 0.1508\n",
      "Epoch 193/750\n",
      "7/7 [==============================] - 0s 65ms/step - loss: 1.9449 - categorical_accuracy: 0.1508\n",
      "Epoch 194/750\n",
      "7/7 [==============================] - 0s 67ms/step - loss: 1.9449 - categorical_accuracy: 0.1508\n",
      "Epoch 195/750\n",
      "7/7 [==============================] - 0s 65ms/step - loss: 1.9449 - categorical_accuracy: 0.1508\n",
      "Epoch 196/750\n",
      "7/7 [==============================] - 0s 71ms/step - loss: 1.9449 - categorical_accuracy: 0.1508\n",
      "Epoch 197/750\n",
      "7/7 [==============================] - 1s 71ms/step - loss: 1.9449 - categorical_accuracy: 0.1508\n",
      "Epoch 198/750\n",
      "7/7 [==============================] - 1s 74ms/step - loss: 1.9450 - categorical_accuracy: 0.1508\n",
      "Epoch 199/750\n",
      "7/7 [==============================] - 1s 72ms/step - loss: 1.9449 - categorical_accuracy: 0.1508\n",
      "Epoch 200/750\n",
      "7/7 [==============================] - 1s 72ms/step - loss: 1.9449 - categorical_accuracy: 0.1508\n",
      "Epoch 201/750\n",
      "7/7 [==============================] - 1s 72ms/step - loss: 1.9450 - categorical_accuracy: 0.1508\n",
      "Epoch 202/750\n",
      "7/7 [==============================] - 1s 74ms/step - loss: 1.9450 - categorical_accuracy: 0.1508\n",
      "Epoch 203/750\n",
      "7/7 [==============================] - 0s 67ms/step - loss: 1.9450 - categorical_accuracy: 0.1508\n",
      "Epoch 204/750\n",
      "7/7 [==============================] - 0s 67ms/step - loss: 1.9450 - categorical_accuracy: 0.1508\n",
      "Epoch 205/750\n",
      "7/7 [==============================] - 1s 70ms/step - loss: 1.9449 - categorical_accuracy: 0.1508\n",
      "Epoch 206/750\n",
      "7/7 [==============================] - 1s 75ms/step - loss: 1.9449 - categorical_accuracy: 0.1508\n",
      "Epoch 207/750\n",
      "7/7 [==============================] - 1s 73ms/step - loss: 1.9449 - categorical_accuracy: 0.1508\n",
      "Epoch 208/750\n",
      "7/7 [==============================] - 1s 73ms/step - loss: 1.9449 - categorical_accuracy: 0.1508\n",
      "Epoch 209/750\n",
      "7/7 [==============================] - 1s 84ms/step - loss: 1.9450 - categorical_accuracy: 0.1508\n",
      "Epoch 210/750\n",
      "7/7 [==============================] - 1s 74ms/step - loss: 1.9449 - categorical_accuracy: 0.1508\n",
      "Epoch 211/750\n",
      "7/7 [==============================] - 0s 71ms/step - loss: 1.9449 - categorical_accuracy: 0.1508\n",
      "Epoch 212/750\n",
      "7/7 [==============================] - 1s 73ms/step - loss: 1.9449 - categorical_accuracy: 0.1508\n",
      "Epoch 213/750\n",
      "7/7 [==============================] - 1s 72ms/step - loss: 1.9449 - categorical_accuracy: 0.1508\n",
      "Epoch 214/750\n",
      "7/7 [==============================] - 1s 73ms/step - loss: 1.9450 - categorical_accuracy: 0.1508\n",
      "Epoch 215/750\n",
      "7/7 [==============================] - 1s 72ms/step - loss: 1.9449 - categorical_accuracy: 0.1508\n",
      "Epoch 216/750\n",
      "7/7 [==============================] - 1s 74ms/step - loss: 1.9449 - categorical_accuracy: 0.1508\n",
      "Epoch 217/750\n",
      "7/7 [==============================] - 1s 76ms/step - loss: 1.9449 - categorical_accuracy: 0.1508\n",
      "Epoch 218/750\n",
      "7/7 [==============================] - 1s 73ms/step - loss: 1.9450 - categorical_accuracy: 0.1508\n",
      "Epoch 219/750\n",
      "7/7 [==============================] - 1s 72ms/step - loss: 1.9450 - categorical_accuracy: 0.1508\n",
      "Epoch 220/750\n",
      "7/7 [==============================] - 1s 90ms/step - loss: 1.9449 - categorical_accuracy: 0.1508\n",
      "Epoch 221/750\n",
      "7/7 [==============================] - 1s 86ms/step - loss: 1.9450 - categorical_accuracy: 0.1508\n",
      "Epoch 222/750\n",
      "7/7 [==============================] - 1s 77ms/step - loss: 1.9449 - categorical_accuracy: 0.1508\n",
      "Epoch 223/750\n",
      "7/7 [==============================] - 1s 76ms/step - loss: 1.9449 - categorical_accuracy: 0.1508\n",
      "Epoch 224/750\n",
      "7/7 [==============================] - 1s 77ms/step - loss: 1.9449 - categorical_accuracy: 0.1508\n",
      "Epoch 225/750\n",
      "7/7 [==============================] - 0s 68ms/step - loss: 1.9449 - categorical_accuracy: 0.1508\n",
      "Epoch 226/750\n",
      "7/7 [==============================] - 1s 83ms/step - loss: 1.9449 - categorical_accuracy: 0.1508\n",
      "Epoch 227/750\n",
      "7/7 [==============================] - 1s 93ms/step - loss: 1.9449 - categorical_accuracy: 0.1508\n",
      "Epoch 228/750\n",
      "7/7 [==============================] - 1s 77ms/step - loss: 1.9449 - categorical_accuracy: 0.1508\n",
      "Epoch 229/750\n",
      "7/7 [==============================] - 1s 70ms/step - loss: 1.9449 - categorical_accuracy: 0.1508\n",
      "Epoch 230/750\n",
      "7/7 [==============================] - 0s 70ms/step - loss: 1.9449 - categorical_accuracy: 0.1508\n",
      "Epoch 231/750\n",
      "7/7 [==============================] - 1s 80ms/step - loss: 1.9449 - categorical_accuracy: 0.1508\n",
      "Epoch 232/750\n",
      "7/7 [==============================] - 0s 67ms/step - loss: 1.9449 - categorical_accuracy: 0.1508\n",
      "Epoch 233/750\n",
      "7/7 [==============================] - 0s 65ms/step - loss: 1.9449 - categorical_accuracy: 0.1508\n",
      "Epoch 234/750\n",
      "7/7 [==============================] - 1s 83ms/step - loss: 1.9449 - categorical_accuracy: 0.1508\n",
      "Epoch 235/750\n",
      "7/7 [==============================] - 1s 73ms/step - loss: 1.9449 - categorical_accuracy: 0.1508\n",
      "Epoch 236/750\n",
      "7/7 [==============================] - 1s 82ms/step - loss: 1.9449 - categorical_accuracy: 0.1508\n",
      "Epoch 237/750\n",
      "7/7 [==============================] - 1s 81ms/step - loss: 1.9449 - categorical_accuracy: 0.1508\n",
      "Epoch 238/750\n",
      "7/7 [==============================] - 1s 75ms/step - loss: 1.9449 - categorical_accuracy: 0.1508\n",
      "Epoch 239/750\n",
      "7/7 [==============================] - 1s 112ms/step - loss: 1.9449 - categorical_accuracy: 0.1508\n",
      "Epoch 240/750\n",
      "7/7 [==============================] - 1s 76ms/step - loss: 1.9449 - categorical_accuracy: 0.1508\n",
      "Epoch 241/750\n",
      "7/7 [==============================] - 1s 79ms/step - loss: 1.9449 - categorical_accuracy: 0.1508\n",
      "Epoch 242/750\n",
      "7/7 [==============================] - 1s 88ms/step - loss: 1.9449 - categorical_accuracy: 0.1508\n",
      "Epoch 243/750\n",
      "7/7 [==============================] - 1s 87ms/step - loss: 1.9449 - categorical_accuracy: 0.1508\n",
      "Epoch 244/750\n",
      "7/7 [==============================] - 1s 90ms/step - loss: 1.9449 - categorical_accuracy: 0.1508\n",
      "Epoch 245/750\n",
      "7/7 [==============================] - 1s 78ms/step - loss: 1.9449 - categorical_accuracy: 0.1508\n",
      "Epoch 246/750\n",
      "7/7 [==============================] - 1s 77ms/step - loss: 1.9449 - categorical_accuracy: 0.1508\n",
      "Epoch 247/750\n",
      "7/7 [==============================] - 1s 75ms/step - loss: 1.9449 - categorical_accuracy: 0.1508\n",
      "Epoch 248/750\n",
      "7/7 [==============================] - 1s 78ms/step - loss: 1.9449 - categorical_accuracy: 0.1508\n",
      "Epoch 249/750\n",
      "7/7 [==============================] - 1s 77ms/step - loss: 1.9449 - categorical_accuracy: 0.1508\n",
      "Epoch 250/750\n",
      "7/7 [==============================] - 0s 71ms/step - loss: 1.9449 - categorical_accuracy: 0.1508\n",
      "Epoch 251/750\n",
      "2/7 [=======>......................] - ETA: 0s - loss: 1.9442 - categorical_accuracy: 0.2031"
     ]
    },
    {
     "ename": "KeyboardInterrupt",
     "evalue": "",
     "output_type": "error",
     "traceback": [
      "\u001b[1;31m---------------------------------------------------------------------------\u001b[0m",
      "\u001b[1;31mKeyboardInterrupt\u001b[0m                         Traceback (most recent call last)",
      "Input \u001b[1;32mIn [45]\u001b[0m, in \u001b[0;36m<cell line: 1>\u001b[1;34m()\u001b[0m\n\u001b[1;32m----> 1\u001b[0m \u001b[43mmodel\u001b[49m\u001b[38;5;241;43m.\u001b[39;49m\u001b[43mfit\u001b[49m\u001b[43m(\u001b[49m\u001b[43mX_train\u001b[49m\u001b[43m,\u001b[49m\u001b[43m \u001b[49m\u001b[43my_train\u001b[49m\u001b[43m,\u001b[49m\u001b[43m \u001b[49m\u001b[43mepochs\u001b[49m\u001b[38;5;241;43m=\u001b[39;49m\u001b[38;5;241;43m750\u001b[39;49m\u001b[43m,\u001b[49m\u001b[43m \u001b[49m\u001b[43mcallbacks\u001b[49m\u001b[38;5;241;43m=\u001b[39;49m\u001b[43m[\u001b[49m\u001b[43mtb_callback\u001b[49m\u001b[43m]\u001b[49m\u001b[43m)\u001b[49m\n",
      "File \u001b[1;32mD:\\Users\\MANYA MALHOTRA\\anaconda3\\lib\\site-packages\\keras\\utils\\traceback_utils.py:65\u001b[0m, in \u001b[0;36mfilter_traceback.<locals>.error_handler\u001b[1;34m(*args, **kwargs)\u001b[0m\n\u001b[0;32m     63\u001b[0m filtered_tb \u001b[38;5;241m=\u001b[39m \u001b[38;5;28;01mNone\u001b[39;00m\n\u001b[0;32m     64\u001b[0m \u001b[38;5;28;01mtry\u001b[39;00m:\n\u001b[1;32m---> 65\u001b[0m     \u001b[38;5;28;01mreturn\u001b[39;00m fn(\u001b[38;5;241m*\u001b[39margs, \u001b[38;5;241m*\u001b[39m\u001b[38;5;241m*\u001b[39mkwargs)\n\u001b[0;32m     66\u001b[0m \u001b[38;5;28;01mexcept\u001b[39;00m \u001b[38;5;167;01mException\u001b[39;00m \u001b[38;5;28;01mas\u001b[39;00m e:\n\u001b[0;32m     67\u001b[0m     filtered_tb \u001b[38;5;241m=\u001b[39m _process_traceback_frames(e\u001b[38;5;241m.\u001b[39m__traceback__)\n",
      "File \u001b[1;32mD:\\Users\\MANYA MALHOTRA\\anaconda3\\lib\\site-packages\\keras\\engine\\training.py:1564\u001b[0m, in \u001b[0;36mModel.fit\u001b[1;34m(self, x, y, batch_size, epochs, verbose, callbacks, validation_split, validation_data, shuffle, class_weight, sample_weight, initial_epoch, steps_per_epoch, validation_steps, validation_batch_size, validation_freq, max_queue_size, workers, use_multiprocessing)\u001b[0m\n\u001b[0;32m   1556\u001b[0m \u001b[38;5;28;01mwith\u001b[39;00m tf\u001b[38;5;241m.\u001b[39mprofiler\u001b[38;5;241m.\u001b[39mexperimental\u001b[38;5;241m.\u001b[39mTrace(\n\u001b[0;32m   1557\u001b[0m     \u001b[38;5;124m\"\u001b[39m\u001b[38;5;124mtrain\u001b[39m\u001b[38;5;124m\"\u001b[39m,\n\u001b[0;32m   1558\u001b[0m     epoch_num\u001b[38;5;241m=\u001b[39mepoch,\n\u001b[1;32m   (...)\u001b[0m\n\u001b[0;32m   1561\u001b[0m     _r\u001b[38;5;241m=\u001b[39m\u001b[38;5;241m1\u001b[39m,\n\u001b[0;32m   1562\u001b[0m ):\n\u001b[0;32m   1563\u001b[0m     callbacks\u001b[38;5;241m.\u001b[39mon_train_batch_begin(step)\n\u001b[1;32m-> 1564\u001b[0m     tmp_logs \u001b[38;5;241m=\u001b[39m \u001b[38;5;28;43mself\u001b[39;49m\u001b[38;5;241;43m.\u001b[39;49m\u001b[43mtrain_function\u001b[49m\u001b[43m(\u001b[49m\u001b[43miterator\u001b[49m\u001b[43m)\u001b[49m\n\u001b[0;32m   1565\u001b[0m     \u001b[38;5;28;01mif\u001b[39;00m data_handler\u001b[38;5;241m.\u001b[39mshould_sync:\n\u001b[0;32m   1566\u001b[0m         context\u001b[38;5;241m.\u001b[39masync_wait()\n",
      "File \u001b[1;32mD:\\Users\\MANYA MALHOTRA\\anaconda3\\lib\\site-packages\\tensorflow\\python\\util\\traceback_utils.py:150\u001b[0m, in \u001b[0;36mfilter_traceback.<locals>.error_handler\u001b[1;34m(*args, **kwargs)\u001b[0m\n\u001b[0;32m    148\u001b[0m filtered_tb \u001b[38;5;241m=\u001b[39m \u001b[38;5;28;01mNone\u001b[39;00m\n\u001b[0;32m    149\u001b[0m \u001b[38;5;28;01mtry\u001b[39;00m:\n\u001b[1;32m--> 150\u001b[0m   \u001b[38;5;28;01mreturn\u001b[39;00m fn(\u001b[38;5;241m*\u001b[39margs, \u001b[38;5;241m*\u001b[39m\u001b[38;5;241m*\u001b[39mkwargs)\n\u001b[0;32m    151\u001b[0m \u001b[38;5;28;01mexcept\u001b[39;00m \u001b[38;5;167;01mException\u001b[39;00m \u001b[38;5;28;01mas\u001b[39;00m e:\n\u001b[0;32m    152\u001b[0m   filtered_tb \u001b[38;5;241m=\u001b[39m _process_traceback_frames(e\u001b[38;5;241m.\u001b[39m__traceback__)\n",
      "File \u001b[1;32mD:\\Users\\MANYA MALHOTRA\\anaconda3\\lib\\site-packages\\tensorflow\\python\\eager\\def_function.py:915\u001b[0m, in \u001b[0;36mFunction.__call__\u001b[1;34m(self, *args, **kwds)\u001b[0m\n\u001b[0;32m    912\u001b[0m compiler \u001b[38;5;241m=\u001b[39m \u001b[38;5;124m\"\u001b[39m\u001b[38;5;124mxla\u001b[39m\u001b[38;5;124m\"\u001b[39m \u001b[38;5;28;01mif\u001b[39;00m \u001b[38;5;28mself\u001b[39m\u001b[38;5;241m.\u001b[39m_jit_compile \u001b[38;5;28;01melse\u001b[39;00m \u001b[38;5;124m\"\u001b[39m\u001b[38;5;124mnonXla\u001b[39m\u001b[38;5;124m\"\u001b[39m\n\u001b[0;32m    914\u001b[0m \u001b[38;5;28;01mwith\u001b[39;00m OptionalXlaContext(\u001b[38;5;28mself\u001b[39m\u001b[38;5;241m.\u001b[39m_jit_compile):\n\u001b[1;32m--> 915\u001b[0m   result \u001b[38;5;241m=\u001b[39m \u001b[38;5;28mself\u001b[39m\u001b[38;5;241m.\u001b[39m_call(\u001b[38;5;241m*\u001b[39margs, \u001b[38;5;241m*\u001b[39m\u001b[38;5;241m*\u001b[39mkwds)\n\u001b[0;32m    917\u001b[0m new_tracing_count \u001b[38;5;241m=\u001b[39m \u001b[38;5;28mself\u001b[39m\u001b[38;5;241m.\u001b[39mexperimental_get_tracing_count()\n\u001b[0;32m    918\u001b[0m without_tracing \u001b[38;5;241m=\u001b[39m (tracing_count \u001b[38;5;241m==\u001b[39m new_tracing_count)\n",
      "File \u001b[1;32mD:\\Users\\MANYA MALHOTRA\\anaconda3\\lib\\site-packages\\tensorflow\\python\\eager\\def_function.py:947\u001b[0m, in \u001b[0;36mFunction._call\u001b[1;34m(self, *args, **kwds)\u001b[0m\n\u001b[0;32m    944\u001b[0m   \u001b[38;5;28mself\u001b[39m\u001b[38;5;241m.\u001b[39m_lock\u001b[38;5;241m.\u001b[39mrelease()\n\u001b[0;32m    945\u001b[0m   \u001b[38;5;66;03m# In this case we have created variables on the first call, so we run the\u001b[39;00m\n\u001b[0;32m    946\u001b[0m   \u001b[38;5;66;03m# defunned version which is guaranteed to never create variables.\u001b[39;00m\n\u001b[1;32m--> 947\u001b[0m   \u001b[38;5;28;01mreturn\u001b[39;00m \u001b[38;5;28mself\u001b[39m\u001b[38;5;241m.\u001b[39m_stateless_fn(\u001b[38;5;241m*\u001b[39margs, \u001b[38;5;241m*\u001b[39m\u001b[38;5;241m*\u001b[39mkwds)  \u001b[38;5;66;03m# pylint: disable=not-callable\u001b[39;00m\n\u001b[0;32m    948\u001b[0m \u001b[38;5;28;01melif\u001b[39;00m \u001b[38;5;28mself\u001b[39m\u001b[38;5;241m.\u001b[39m_stateful_fn \u001b[38;5;129;01mis\u001b[39;00m \u001b[38;5;129;01mnot\u001b[39;00m \u001b[38;5;28;01mNone\u001b[39;00m:\n\u001b[0;32m    949\u001b[0m   \u001b[38;5;66;03m# Release the lock early so that multiple threads can perform the call\u001b[39;00m\n\u001b[0;32m    950\u001b[0m   \u001b[38;5;66;03m# in parallel.\u001b[39;00m\n\u001b[0;32m    951\u001b[0m   \u001b[38;5;28mself\u001b[39m\u001b[38;5;241m.\u001b[39m_lock\u001b[38;5;241m.\u001b[39mrelease()\n",
      "File \u001b[1;32mD:\\Users\\MANYA MALHOTRA\\anaconda3\\lib\\site-packages\\tensorflow\\python\\eager\\function.py:2496\u001b[0m, in \u001b[0;36mFunction.__call__\u001b[1;34m(self, *args, **kwargs)\u001b[0m\n\u001b[0;32m   2493\u001b[0m \u001b[38;5;28;01mwith\u001b[39;00m \u001b[38;5;28mself\u001b[39m\u001b[38;5;241m.\u001b[39m_lock:\n\u001b[0;32m   2494\u001b[0m   (graph_function,\n\u001b[0;32m   2495\u001b[0m    filtered_flat_args) \u001b[38;5;241m=\u001b[39m \u001b[38;5;28mself\u001b[39m\u001b[38;5;241m.\u001b[39m_maybe_define_function(args, kwargs)\n\u001b[1;32m-> 2496\u001b[0m \u001b[38;5;28;01mreturn\u001b[39;00m \u001b[43mgraph_function\u001b[49m\u001b[38;5;241;43m.\u001b[39;49m\u001b[43m_call_flat\u001b[49m\u001b[43m(\u001b[49m\n\u001b[0;32m   2497\u001b[0m \u001b[43m    \u001b[49m\u001b[43mfiltered_flat_args\u001b[49m\u001b[43m,\u001b[49m\u001b[43m \u001b[49m\u001b[43mcaptured_inputs\u001b[49m\u001b[38;5;241;43m=\u001b[39;49m\u001b[43mgraph_function\u001b[49m\u001b[38;5;241;43m.\u001b[39;49m\u001b[43mcaptured_inputs\u001b[49m\u001b[43m)\u001b[49m\n",
      "File \u001b[1;32mD:\\Users\\MANYA MALHOTRA\\anaconda3\\lib\\site-packages\\tensorflow\\python\\eager\\function.py:1862\u001b[0m, in \u001b[0;36mConcreteFunction._call_flat\u001b[1;34m(self, args, captured_inputs, cancellation_manager)\u001b[0m\n\u001b[0;32m   1858\u001b[0m possible_gradient_type \u001b[38;5;241m=\u001b[39m gradients_util\u001b[38;5;241m.\u001b[39mPossibleTapeGradientTypes(args)\n\u001b[0;32m   1859\u001b[0m \u001b[38;5;28;01mif\u001b[39;00m (possible_gradient_type \u001b[38;5;241m==\u001b[39m gradients_util\u001b[38;5;241m.\u001b[39mPOSSIBLE_GRADIENT_TYPES_NONE\n\u001b[0;32m   1860\u001b[0m     \u001b[38;5;129;01mand\u001b[39;00m executing_eagerly):\n\u001b[0;32m   1861\u001b[0m   \u001b[38;5;66;03m# No tape is watching; skip to running the function.\u001b[39;00m\n\u001b[1;32m-> 1862\u001b[0m   \u001b[38;5;28;01mreturn\u001b[39;00m \u001b[38;5;28mself\u001b[39m\u001b[38;5;241m.\u001b[39m_build_call_outputs(\u001b[38;5;28;43mself\u001b[39;49m\u001b[38;5;241;43m.\u001b[39;49m\u001b[43m_inference_function\u001b[49m\u001b[38;5;241;43m.\u001b[39;49m\u001b[43mcall\u001b[49m\u001b[43m(\u001b[49m\n\u001b[0;32m   1863\u001b[0m \u001b[43m      \u001b[49m\u001b[43mctx\u001b[49m\u001b[43m,\u001b[49m\u001b[43m \u001b[49m\u001b[43margs\u001b[49m\u001b[43m,\u001b[49m\u001b[43m \u001b[49m\u001b[43mcancellation_manager\u001b[49m\u001b[38;5;241;43m=\u001b[39;49m\u001b[43mcancellation_manager\u001b[49m\u001b[43m)\u001b[49m)\n\u001b[0;32m   1864\u001b[0m forward_backward \u001b[38;5;241m=\u001b[39m \u001b[38;5;28mself\u001b[39m\u001b[38;5;241m.\u001b[39m_select_forward_and_backward_functions(\n\u001b[0;32m   1865\u001b[0m     args,\n\u001b[0;32m   1866\u001b[0m     possible_gradient_type,\n\u001b[0;32m   1867\u001b[0m     executing_eagerly)\n\u001b[0;32m   1868\u001b[0m forward_function, args_with_tangents \u001b[38;5;241m=\u001b[39m forward_backward\u001b[38;5;241m.\u001b[39mforward()\n",
      "File \u001b[1;32mD:\\Users\\MANYA MALHOTRA\\anaconda3\\lib\\site-packages\\tensorflow\\python\\eager\\function.py:499\u001b[0m, in \u001b[0;36m_EagerDefinedFunction.call\u001b[1;34m(self, ctx, args, cancellation_manager)\u001b[0m\n\u001b[0;32m    497\u001b[0m \u001b[38;5;28;01mwith\u001b[39;00m _InterpolateFunctionError(\u001b[38;5;28mself\u001b[39m):\n\u001b[0;32m    498\u001b[0m   \u001b[38;5;28;01mif\u001b[39;00m cancellation_manager \u001b[38;5;129;01mis\u001b[39;00m \u001b[38;5;28;01mNone\u001b[39;00m:\n\u001b[1;32m--> 499\u001b[0m     outputs \u001b[38;5;241m=\u001b[39m \u001b[43mexecute\u001b[49m\u001b[38;5;241;43m.\u001b[39;49m\u001b[43mexecute\u001b[49m\u001b[43m(\u001b[49m\n\u001b[0;32m    500\u001b[0m \u001b[43m        \u001b[49m\u001b[38;5;28;43mstr\u001b[39;49m\u001b[43m(\u001b[49m\u001b[38;5;28;43mself\u001b[39;49m\u001b[38;5;241;43m.\u001b[39;49m\u001b[43msignature\u001b[49m\u001b[38;5;241;43m.\u001b[39;49m\u001b[43mname\u001b[49m\u001b[43m)\u001b[49m\u001b[43m,\u001b[49m\n\u001b[0;32m    501\u001b[0m \u001b[43m        \u001b[49m\u001b[43mnum_outputs\u001b[49m\u001b[38;5;241;43m=\u001b[39;49m\u001b[38;5;28;43mself\u001b[39;49m\u001b[38;5;241;43m.\u001b[39;49m\u001b[43m_num_outputs\u001b[49m\u001b[43m,\u001b[49m\n\u001b[0;32m    502\u001b[0m \u001b[43m        \u001b[49m\u001b[43minputs\u001b[49m\u001b[38;5;241;43m=\u001b[39;49m\u001b[43margs\u001b[49m\u001b[43m,\u001b[49m\n\u001b[0;32m    503\u001b[0m \u001b[43m        \u001b[49m\u001b[43mattrs\u001b[49m\u001b[38;5;241;43m=\u001b[39;49m\u001b[43mattrs\u001b[49m\u001b[43m,\u001b[49m\n\u001b[0;32m    504\u001b[0m \u001b[43m        \u001b[49m\u001b[43mctx\u001b[49m\u001b[38;5;241;43m=\u001b[39;49m\u001b[43mctx\u001b[49m\u001b[43m)\u001b[49m\n\u001b[0;32m    505\u001b[0m   \u001b[38;5;28;01melse\u001b[39;00m:\n\u001b[0;32m    506\u001b[0m     outputs \u001b[38;5;241m=\u001b[39m execute\u001b[38;5;241m.\u001b[39mexecute_with_cancellation(\n\u001b[0;32m    507\u001b[0m         \u001b[38;5;28mstr\u001b[39m(\u001b[38;5;28mself\u001b[39m\u001b[38;5;241m.\u001b[39msignature\u001b[38;5;241m.\u001b[39mname),\n\u001b[0;32m    508\u001b[0m         num_outputs\u001b[38;5;241m=\u001b[39m\u001b[38;5;28mself\u001b[39m\u001b[38;5;241m.\u001b[39m_num_outputs,\n\u001b[1;32m   (...)\u001b[0m\n\u001b[0;32m    511\u001b[0m         ctx\u001b[38;5;241m=\u001b[39mctx,\n\u001b[0;32m    512\u001b[0m         cancellation_manager\u001b[38;5;241m=\u001b[39mcancellation_manager)\n",
      "File \u001b[1;32mD:\\Users\\MANYA MALHOTRA\\anaconda3\\lib\\site-packages\\tensorflow\\python\\eager\\execute.py:54\u001b[0m, in \u001b[0;36mquick_execute\u001b[1;34m(op_name, num_outputs, inputs, attrs, ctx, name)\u001b[0m\n\u001b[0;32m     52\u001b[0m \u001b[38;5;28;01mtry\u001b[39;00m:\n\u001b[0;32m     53\u001b[0m   ctx\u001b[38;5;241m.\u001b[39mensure_initialized()\n\u001b[1;32m---> 54\u001b[0m   tensors \u001b[38;5;241m=\u001b[39m \u001b[43mpywrap_tfe\u001b[49m\u001b[38;5;241;43m.\u001b[39;49m\u001b[43mTFE_Py_Execute\u001b[49m\u001b[43m(\u001b[49m\u001b[43mctx\u001b[49m\u001b[38;5;241;43m.\u001b[39;49m\u001b[43m_handle\u001b[49m\u001b[43m,\u001b[49m\u001b[43m \u001b[49m\u001b[43mdevice_name\u001b[49m\u001b[43m,\u001b[49m\u001b[43m \u001b[49m\u001b[43mop_name\u001b[49m\u001b[43m,\u001b[49m\n\u001b[0;32m     55\u001b[0m \u001b[43m                                      \u001b[49m\u001b[43minputs\u001b[49m\u001b[43m,\u001b[49m\u001b[43m \u001b[49m\u001b[43mattrs\u001b[49m\u001b[43m,\u001b[49m\u001b[43m \u001b[49m\u001b[43mnum_outputs\u001b[49m\u001b[43m)\u001b[49m\n\u001b[0;32m     56\u001b[0m \u001b[38;5;28;01mexcept\u001b[39;00m core\u001b[38;5;241m.\u001b[39m_NotOkStatusException \u001b[38;5;28;01mas\u001b[39;00m e:\n\u001b[0;32m     57\u001b[0m   \u001b[38;5;28;01mif\u001b[39;00m name \u001b[38;5;129;01mis\u001b[39;00m \u001b[38;5;129;01mnot\u001b[39;00m \u001b[38;5;28;01mNone\u001b[39;00m:\n",
      "\u001b[1;31mKeyboardInterrupt\u001b[0m: "
     ]
    }
   ],
   "source": [
    "model.fit(X_train, y_train, epochs=750, callbacks=[tb_callback])"
   ]
  },
  {
   "cell_type": "code",
   "execution_count": 49,
   "id": "a4b7b463",
   "metadata": {},
   "outputs": [
    {
     "name": "stdout",
     "output_type": "stream",
     "text": [
      "Model: \"sequential_1\"\n",
      "_________________________________________________________________\n",
      " Layer (type)                Output Shape              Param #   \n",
      "=================================================================\n",
      " lstm_3 (LSTM)               (None, 30, 64)            442112    \n",
      "                                                                 \n",
      " lstm_4 (LSTM)               (None, 30, 128)           98816     \n",
      "                                                                 \n",
      " lstm_5 (LSTM)               (None, 64)                49408     \n",
      "                                                                 \n",
      " dense_3 (Dense)             (None, 64)                4160      \n",
      "                                                                 \n",
      " dense_4 (Dense)             (None, 32)                2080      \n",
      "                                                                 \n",
      " dense_5 (Dense)             (None, 7)                 231       \n",
      "                                                                 \n",
      "=================================================================\n",
      "Total params: 596,807\n",
      "Trainable params: 596,807\n",
      "Non-trainable params: 0\n",
      "_________________________________________________________________\n"
     ]
    }
   ],
   "source": [
    "model.summary()"
   ]
  },
  {
   "cell_type": "markdown",
   "id": "2cb0d0fe",
   "metadata": {},
   "source": [
    "# 8. Make Predictions"
   ]
  },
  {
   "cell_type": "code",
   "execution_count": 50,
   "id": "1b41f69d",
   "metadata": {},
   "outputs": [
    {
     "name": "stdout",
     "output_type": "stream",
     "text": [
      "1/1 [==============================] - 0s 26ms/step\n"
     ]
    }
   ],
   "source": [
    "res = model.predict(X_test)"
   ]
  },
  {
   "cell_type": "code",
   "execution_count": 51,
   "id": "a29cd8ce",
   "metadata": {},
   "outputs": [
    {
     "data": {
      "text/plain": [
       "'How'"
      ]
     },
     "execution_count": 51,
     "metadata": {},
     "output_type": "execute_result"
    }
   ],
   "source": [
    "actions[np.argmax(res[0])]"
   ]
  },
  {
   "cell_type": "code",
   "execution_count": 52,
   "id": "a74509dd",
   "metadata": {},
   "outputs": [
    {
     "data": {
      "text/plain": [
       "'I Love You'"
      ]
     },
     "execution_count": 52,
     "metadata": {},
     "output_type": "execute_result"
    }
   ],
   "source": [
    "actions[np.argmax(y_test[0])]"
   ]
  },
  {
   "cell_type": "markdown",
   "id": "6667872c",
   "metadata": {},
   "source": [
    "# 9. Save Weights"
   ]
  },
  {
   "cell_type": "code",
   "execution_count": 53,
   "id": "2a8cc8a9",
   "metadata": {},
   "outputs": [],
   "source": [
    "model.save('action.h5')"
   ]
  },
  {
   "cell_type": "code",
   "execution_count": 54,
   "id": "00ff8ddd",
   "metadata": {},
   "outputs": [],
   "source": [
    "model.load_weights('action.h5')"
   ]
  },
  {
   "cell_type": "markdown",
   "id": "b685ed96",
   "metadata": {},
   "source": [
    "# 10. Evaluation using Confusion Matrix and Accuracy"
   ]
  },
  {
   "cell_type": "code",
   "execution_count": 55,
   "id": "6af7e10b",
   "metadata": {},
   "outputs": [],
   "source": [
    "from sklearn.metrics import multilabel_confusion_matrix, accuracy_score"
   ]
  },
  {
   "cell_type": "code",
   "execution_count": 56,
   "id": "d6ecfb74",
   "metadata": {},
   "outputs": [
    {
     "name": "stdout",
     "output_type": "stream",
     "text": [
      "1/1 [==============================] - 0s 32ms/step\n"
     ]
    }
   ],
   "source": [
    "yhat = model.predict(X_test)"
   ]
  },
  {
   "cell_type": "code",
   "execution_count": 57,
   "id": "bdd60955",
   "metadata": {},
   "outputs": [],
   "source": [
    "ytrue = np.argmax(y_test, axis=1).tolist()\n",
    "yhat = np.argmax(yhat, axis=1).tolist()"
   ]
  },
  {
   "cell_type": "code",
   "execution_count": null,
   "id": "a5bd3c4c",
   "metadata": {},
   "outputs": [],
   "source": [
    "multilabel_confusion_matrix(ytrue, yhat)"
   ]
  },
  {
   "cell_type": "code",
   "execution_count": 59,
   "id": "3f3f5b2f",
   "metadata": {},
   "outputs": [
    {
     "data": {
      "text/plain": [
       "0.0"
      ]
     },
     "execution_count": 59,
     "metadata": {},
     "output_type": "execute_result"
    }
   ],
   "source": [
    "accuracy_score(ytrue, yhat)"
   ]
  },
  {
   "cell_type": "markdown",
   "id": "2396d108",
   "metadata": {},
   "source": [
    "# 11. Test in Real Time"
   ]
  },
  {
   "cell_type": "code",
   "execution_count": 60,
   "id": "2ce992f1",
   "metadata": {},
   "outputs": [],
   "source": [
    "from scipy import stats\n",
    "colors = [(245,117,16), (117,245,16), (16,117,245), (245,117,16), (117,245,16), (16,117,245), ]\n",
    "def prob_viz(res, actions, input_frame, colors):\n",
    "    output_frame = input_frame.copy()\n",
    "    for num, prob in enumerate(res):\n",
    "        cv2.rectangle(output_frame, (0,60+num*40), (int(prob*100), 90+num*40), colors[num], -1)\n",
    "        cv2.putText(output_frame, actions[num], (0, 85+num*40), cv2.FONT_HERSHEY_SIMPLEX, 1, (255,255,255), 2, cv2.LINE_AA)\n",
    "        \n",
    "    return output_frame"
   ]
  },
  {
   "cell_type": "code",
   "execution_count": 61,
   "id": "2414ddd9",
   "metadata": {},
   "outputs": [
    {
     "name": "stdout",
     "output_type": "stream",
     "text": [
      "<class 'mediapipe.python.solution_base.SolutionOutputs'>\n",
      "<class 'mediapipe.python.solution_base.SolutionOutputs'>\n",
      "<class 'mediapipe.python.solution_base.SolutionOutputs'>\n",
      "<class 'mediapipe.python.solution_base.SolutionOutputs'>\n",
      "<class 'mediapipe.python.solution_base.SolutionOutputs'>\n",
      "<class 'mediapipe.python.solution_base.SolutionOutputs'>\n",
      "<class 'mediapipe.python.solution_base.SolutionOutputs'>\n",
      "<class 'mediapipe.python.solution_base.SolutionOutputs'>\n",
      "<class 'mediapipe.python.solution_base.SolutionOutputs'>\n",
      "<class 'mediapipe.python.solution_base.SolutionOutputs'>\n",
      "<class 'mediapipe.python.solution_base.SolutionOutputs'>\n",
      "<class 'mediapipe.python.solution_base.SolutionOutputs'>\n",
      "<class 'mediapipe.python.solution_base.SolutionOutputs'>\n",
      "<class 'mediapipe.python.solution_base.SolutionOutputs'>\n",
      "<class 'mediapipe.python.solution_base.SolutionOutputs'>\n",
      "<class 'mediapipe.python.solution_base.SolutionOutputs'>\n",
      "<class 'mediapipe.python.solution_base.SolutionOutputs'>\n",
      "<class 'mediapipe.python.solution_base.SolutionOutputs'>\n",
      "<class 'mediapipe.python.solution_base.SolutionOutputs'>\n",
      "<class 'mediapipe.python.solution_base.SolutionOutputs'>\n",
      "<class 'mediapipe.python.solution_base.SolutionOutputs'>\n",
      "<class 'mediapipe.python.solution_base.SolutionOutputs'>\n",
      "<class 'mediapipe.python.solution_base.SolutionOutputs'>\n",
      "<class 'mediapipe.python.solution_base.SolutionOutputs'>\n",
      "<class 'mediapipe.python.solution_base.SolutionOutputs'>\n",
      "<class 'mediapipe.python.solution_base.SolutionOutputs'>\n",
      "<class 'mediapipe.python.solution_base.SolutionOutputs'>\n",
      "<class 'mediapipe.python.solution_base.SolutionOutputs'>\n",
      "<class 'mediapipe.python.solution_base.SolutionOutputs'>\n",
      "<class 'mediapipe.python.solution_base.SolutionOutputs'>\n",
      "1/1 [==============================] - 0s 77ms/step\n",
      "How\n"
     ]
    },
    {
     "ename": "IndexError",
     "evalue": "list index out of range",
     "output_type": "error",
     "traceback": [
      "\u001b[1;31m---------------------------------------------------------------------------\u001b[0m",
      "\u001b[1;31mIndexError\u001b[0m                                Traceback (most recent call last)",
      "Input \u001b[1;32mIn [61]\u001b[0m, in \u001b[0;36m<cell line: 9>\u001b[1;34m()\u001b[0m\n\u001b[0;32m     47\u001b[0m         sentence \u001b[38;5;241m=\u001b[39m sentence[\u001b[38;5;241m-\u001b[39m\u001b[38;5;241m5\u001b[39m:]\n\u001b[0;32m     49\u001b[0m     \u001b[38;5;66;03m# Viz probabilities\u001b[39;00m\n\u001b[1;32m---> 50\u001b[0m     image \u001b[38;5;241m=\u001b[39m \u001b[43mprob_viz\u001b[49m\u001b[43m(\u001b[49m\u001b[43mres\u001b[49m\u001b[43m,\u001b[49m\u001b[43m \u001b[49m\u001b[43mactions\u001b[49m\u001b[43m,\u001b[49m\u001b[43m \u001b[49m\u001b[43mimage\u001b[49m\u001b[43m,\u001b[49m\u001b[43m \u001b[49m\u001b[43mcolors\u001b[49m\u001b[43m)\u001b[49m\n\u001b[0;32m     53\u001b[0m cv2\u001b[38;5;241m.\u001b[39mrectangle(image, (\u001b[38;5;241m0\u001b[39m,\u001b[38;5;241m0\u001b[39m), (\u001b[38;5;241m640\u001b[39m, \u001b[38;5;241m40\u001b[39m), (\u001b[38;5;241m245\u001b[39m, \u001b[38;5;241m117\u001b[39m, \u001b[38;5;241m16\u001b[39m), \u001b[38;5;241m-\u001b[39m\u001b[38;5;241m1\u001b[39m)\n\u001b[0;32m     54\u001b[0m cv2\u001b[38;5;241m.\u001b[39mputText(image, \u001b[38;5;124m'\u001b[39m\u001b[38;5;124m \u001b[39m\u001b[38;5;124m'\u001b[39m\u001b[38;5;241m.\u001b[39mjoin(sentence), (\u001b[38;5;241m3\u001b[39m,\u001b[38;5;241m30\u001b[39m), \n\u001b[0;32m     55\u001b[0m                cv2\u001b[38;5;241m.\u001b[39mFONT_HERSHEY_SIMPLEX, \u001b[38;5;241m1\u001b[39m, (\u001b[38;5;241m255\u001b[39m, \u001b[38;5;241m255\u001b[39m, \u001b[38;5;241m255\u001b[39m), \u001b[38;5;241m2\u001b[39m, cv2\u001b[38;5;241m.\u001b[39mLINE_AA)\n",
      "Input \u001b[1;32mIn [60]\u001b[0m, in \u001b[0;36mprob_viz\u001b[1;34m(res, actions, input_frame, colors)\u001b[0m\n\u001b[0;32m      4\u001b[0m output_frame \u001b[38;5;241m=\u001b[39m input_frame\u001b[38;5;241m.\u001b[39mcopy()\n\u001b[0;32m      5\u001b[0m \u001b[38;5;28;01mfor\u001b[39;00m num, prob \u001b[38;5;129;01min\u001b[39;00m \u001b[38;5;28menumerate\u001b[39m(res):\n\u001b[1;32m----> 6\u001b[0m     cv2\u001b[38;5;241m.\u001b[39mrectangle(output_frame, (\u001b[38;5;241m0\u001b[39m,\u001b[38;5;241m60\u001b[39m\u001b[38;5;241m+\u001b[39mnum\u001b[38;5;241m*\u001b[39m\u001b[38;5;241m40\u001b[39m), (\u001b[38;5;28mint\u001b[39m(prob\u001b[38;5;241m*\u001b[39m\u001b[38;5;241m100\u001b[39m), \u001b[38;5;241m90\u001b[39m\u001b[38;5;241m+\u001b[39mnum\u001b[38;5;241m*\u001b[39m\u001b[38;5;241m40\u001b[39m), \u001b[43mcolors\u001b[49m\u001b[43m[\u001b[49m\u001b[43mnum\u001b[49m\u001b[43m]\u001b[49m, \u001b[38;5;241m-\u001b[39m\u001b[38;5;241m1\u001b[39m)\n\u001b[0;32m      7\u001b[0m     cv2\u001b[38;5;241m.\u001b[39mputText(output_frame, actions[num], (\u001b[38;5;241m0\u001b[39m, \u001b[38;5;241m85\u001b[39m\u001b[38;5;241m+\u001b[39mnum\u001b[38;5;241m*\u001b[39m\u001b[38;5;241m40\u001b[39m), cv2\u001b[38;5;241m.\u001b[39mFONT_HERSHEY_SIMPLEX, \u001b[38;5;241m1\u001b[39m, (\u001b[38;5;241m255\u001b[39m,\u001b[38;5;241m255\u001b[39m,\u001b[38;5;241m255\u001b[39m), \u001b[38;5;241m2\u001b[39m, cv2\u001b[38;5;241m.\u001b[39mLINE_AA)\n\u001b[0;32m      9\u001b[0m \u001b[38;5;28;01mreturn\u001b[39;00m output_frame\n",
      "\u001b[1;31mIndexError\u001b[0m: list index out of range"
     ]
    }
   ],
   "source": [
    "# 1. New detection variables\n",
    "sequence = []\n",
    "sentence = []\n",
    "predictions = []\n",
    "threshold = 0.5\n",
    "\n",
    "cap = cv2.VideoCapture(0)\n",
    "# Set mediapipe model \n",
    "with mp_holistic.Holistic(min_detection_confidence=0.5, min_tracking_confidence=0.5) as holistic:\n",
    "    while cap.isOpened():\n",
    "\n",
    "        # Read feed\n",
    "        ret, frame = cap.read()\n",
    "\n",
    "        # Make detections\n",
    "        image, results = mediapipe_detection(frame, holistic)\n",
    "        print(results)\n",
    "        \n",
    "        # Draw landmarks\n",
    "        draw_styled_landmarks(image, results)\n",
    "        \n",
    "        # 2. Prediction logic\n",
    "        keypoints = extract_keypoints(results)\n",
    "        sequence.append(keypoints)\n",
    "        sequence = sequence[-30:]\n",
    "        \n",
    "        #flip the frame horizontally\n",
    "        #image = cv2.flip(image, 1)\n",
    "        \n",
    "        if len(sequence) == 30:\n",
    "            res = model.predict(np.expand_dims(sequence, axis=0))[0]\n",
    "            print(actions[np.argmax(res)])\n",
    "            predictions.append(np.argmax(res))\n",
    "            \n",
    "            \n",
    "        #3. Viz logic\n",
    "            if np.unique(predictions[-10:])[0]==np.argmax(res): \n",
    "                if res[np.argmax(res)] > threshold: \n",
    "                    \n",
    "                    if len(sentence) > 0: \n",
    "                        if actions[np.argmax(res)] != sentence[-1]:\n",
    "                            sentence.append(actions[np.argmax(res)])\n",
    "                    else:\n",
    "                        sentence.append(actions[np.argmax(res)])\n",
    "\n",
    "            if len(sentence) > 5: \n",
    "                sentence = sentence[-5:]\n",
    "\n",
    "            # Viz probabilities\n",
    "            image = prob_viz(res, actions, image, colors)\n",
    "\n",
    "            \n",
    "        cv2.rectangle(image, (0,0), (640, 40), (245, 117, 16), -1)\n",
    "        cv2.putText(image, ' '.join(sentence), (3,30), \n",
    "                       cv2.FONT_HERSHEY_SIMPLEX, 1, (255, 255, 255), 2, cv2.LINE_AA)\n",
    "        \n",
    "        \n",
    "        # Show to screen\n",
    "        cv2.imshow('OpenCV Feed', image)\n",
    "\n",
    "        # Break gracefully\n",
    "        if cv2.waitKey(10) & 0xFF == ord('q'):\n",
    "            break\n",
    "    cap.release()\n",
    "    cv2.destroyAllWindows()"
   ]
  },
  {
   "cell_type": "code",
   "execution_count": null,
   "id": "8ca37b00",
   "metadata": {},
   "outputs": [],
   "source": []
  },
  {
   "cell_type": "code",
   "execution_count": null,
   "id": "0603f59b",
   "metadata": {},
   "outputs": [],
   "source": []
  }
 ],
 "metadata": {
  "kernelspec": {
   "display_name": "Python 3 (ipykernel)",
   "language": "python",
   "name": "python3"
  },
  "language_info": {
   "codemirror_mode": {
    "name": "ipython",
    "version": 3
   },
   "file_extension": ".py",
   "mimetype": "text/x-python",
   "name": "python",
   "nbconvert_exporter": "python",
   "pygments_lexer": "ipython3",
   "version": "3.9.12"
  }
 },
 "nbformat": 4,
 "nbformat_minor": 5
}
